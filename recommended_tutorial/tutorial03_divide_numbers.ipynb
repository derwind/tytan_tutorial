{
 "cells": [
  {
   "cell_type": "markdown",
   "metadata": {
    "id": "wD0xnOSEwDir"
   },
   "source": [
    "## TYTAN tutorial おすすめ3（数字を均等に2組に分ける）\n",
    "\n",
    "最終更新：2023年6月25日 by ビネクラ安田\n",
    "\n",
    "取り組み方\n",
    "\n",
    "*   Google Colabで取り組む場合：ファイル＞ドライブにコピーを保存　<font color=\"red\">※このファイルを直接編集しても保存されません</font>\n",
    "*   Jupyter Notebookに移す場合：ファイル＞ダウンロード＞.ipynbをダウンロード\n",
    "\n",
    "参考リンク１\n",
    "\n",
    "*   [TYTANチュートリアル一覧](https://github.com/tytansdk/tytan_tutorial)\n",
    "*   [TYTANドキュメント](https://github.com/tytansdk/tytan/blob/main/document%20.md)\n",
    "\n",
    "出展\n",
    "\n",
    "*   [量子アニーリング（QUBO）で複数の数字を均等に2組に分ける」を解く](https://vigne-cla.com/21-25/)"
   ]
  },
  {
   "cell_type": "markdown",
   "metadata": {
    "id": "NrPx2FvzyDYI"
   },
   "source": [
    "### 問題\n",
    "\n",
    "次の6つの自然数を、総和が等しくなるように2グループに分けなさい。<br>\n",
    "15, 25, 33, 41, 64, 82\n",
    "\n",
    "\n",
    "<div align=\"center\">\n",
    "<img src=\"https://vigne-cla.com/wp-content/uploads/2023/05/21-25_bmeiqbd.jpg\" width = 45%>\n",
    "</div>\n",
    "\n",
    "入試問題として出題される場合は倍数、余りなど整数の性質を利用して解けるようになっている。さすがに入試で全探索（力まかせ探索）は出ないと信じる・・・"
   ]
  },
  {
   "cell_type": "markdown",
   "metadata": {
    "id": "V8VJ0QJH0UNS"
   },
   "source": [
    "### このQUBO設定を使おう\n",
    "\n",
    "<font color=\"red\">「解が0と1だけの方程式」</font>\n",
    "\n",
    "「重さ1, 2, 3のボールのどれを取れば合計3の重さになるか？」のは次のように設定できる。\n",
    "```\n",
    "H = (1*q0 + 2*q1 + 3*q2 - 3)**2\n",
    "```\n",
    "\n",
    "解は [q0, q1, q2] = [0, 0, 1] or [1, 1, 0] となり、1, 2のボール、または3のボールを取れば良いという結果になる。\n",
    "\n",
    "その他の条件式も気になる方は → [量子アニーリングのQUBOで設定可能な条件式まとめ（保存版）](https://vigne-cla.com/21-12/)"
   ]
  },
  {
   "cell_type": "markdown",
   "metadata": {
    "id": "1gewbtcP20NU"
   },
   "source": [
    "### 制約条件\n",
    "\n",
    "まず、すべての数字の合計が260なので各グループは合計130である。\n",
    "\n",
    "数字に6個の量子ビット（q0～q5）を割り当て、1になったらグループA、0になったらグループBとする。\n",
    "\n",
    "グループAの量子ビットは1であることを利用し、重みとして数字をかけた合計が130になるような式を設定する。<font color=\"red\">「量子ビットが1になったときにその数字の重みが有効」</font>になる。\n",
    "\n",
    "```\n",
    "#グループA（＝１になった量子ビット）は合計130\n",
    "H = (15*q0 + 25*q1 + 33*q2 + 41*q3 + 64*q4 + 82*q5 - 130)**2\n",
    "```\n",
    "\n",
    "反対に、グループBの量子ビットは0であることから、こちらも重みをかけたものの合計が130になるように設定する。ここでテクニックとして、**q0 を (1 – q0) と置き換える**ことで０，１の条件をひっくり返し<font color=\"red\">「0になったときに重みが有効」</font>を表現できる。\n",
    "\n",
    "```\n",
    "#グループB（＝０になった量子ビット）は合計130\n",
    "H = (15*(1-q0) + 25*(1-q1) + 33*(1-q2) + 41*(1-q3) + 64*(1-q4) + 82*(1-q5) - 130)**2\n",
    "```"
   ]
  },
  {
   "cell_type": "markdown",
   "metadata": {
    "id": "aRt4eclUEy3i"
   },
   "source": [
    "## コード"
   ]
  },
  {
   "cell_type": "code",
   "execution_count": null,
   "metadata": {
    "id": "RLVRSk--Ae4D"
   },
   "outputs": [],
   "source": [
    "!pip install git+https://github.com/tytansdk/tytan"
   ]
  },
  {
   "cell_type": "code",
   "execution_count": 1,
   "metadata": {
    "colab": {
     "base_uri": "https://localhost:8080/"
    },
    "executionInfo": {
     "elapsed": 239,
     "status": "ok",
     "timestamp": 1687676832500,
     "user": {
      "displayName": "ビネットクラリティ",
      "userId": "09491866446551609298"
     },
     "user_tz": -540
    },
    "id": "DyzHJ_niCiak",
    "outputId": "e0631c71-0958-4f82-8ce1-92c0ac4a98ee"
   },
   "outputs": [
    {
     "name": "stdout",
     "output_type": "stream",
     "text": [
      "offset\n",
      "33800\n",
      "[{'q0': 0, 'q1': 1, 'q2': 0, 'q3': 1, 'q4': 1, 'q5': 0}, -33800.0, 28]\n",
      "[{'q0': 1, 'q1': 0, 'q2': 1, 'q3': 0, 'q4': 0, 'q5': 1}, -33800.0, 28]\n",
      "[{'q0': 0, 'q1': 0, 'q2': 0, 'q3': 1, 'q4': 0, 'q5': 1}, -33702.0, 21]\n",
      "[{'q0': 1, 'q1': 1, 'q2': 1, 'q3': 0, 'q4': 1, 'q5': 0}, -33702.0, 23]\n"
     ]
    }
   ],
   "source": [
    "from tytan import symbols, symbols_list, Compile, sampler\n",
    "\n",
    "#量子ビットを用意する\n",
    "q0 = symbols('q0')\n",
    "q1 = symbols('q1')\n",
    "q2 = symbols('q2')\n",
    "q3 = symbols('q3')\n",
    "q4 = symbols('q4')\n",
    "q5 = symbols('q5')\n",
    "\n",
    "#グループA（＝１になった量子ビット）は合計130\n",
    "H = 0\n",
    "H += (15*q0 + 25*q1 + 33*q2 + 41*q3 + 64*q4 + 82*q5 - 130)**2\n",
    "\n",
    "#グループB（＝０になった量子ビット）は合計130\n",
    "H += (15*(1-q0) + 25*(1-q1) + 33*(1-q2) + 41*(1-q3) + 64*(1-q4) + 82*(1-q5) - 130)**2\n",
    "\n",
    "\n",
    "#コンパイル\n",
    "qubo, offset = Compile(H).get_qubo()\n",
    "print(f'offset\\n{offset}')\n",
    "\n",
    "#サンプラー選択\n",
    "solver = sampler.SASampler()\n",
    "\n",
    "#サンプリング\n",
    "result = solver.run(qubo)\n",
    "\n",
    "#結果\n",
    "for r in result:\n",
    "    print(r)"
   ]
  },
  {
   "cell_type": "markdown",
   "metadata": {
    "id": "M031KDq0kZRo"
   },
   "source": [
    "最適解は2通り出るがグループ名を入れ替えたものなので同じ。\n",
    "\n",
    "[15, 25, 33, 41, 64, 82] => [0, 1, 0, 1, 1, 0] ということで、グループAに [25, 41, 64]、グループBに [15, 33, 82] と分かった。"
   ]
  },
  {
   "cell_type": "markdown",
   "metadata": {
    "id": "kNyTwt57Ki8R"
   },
   "source": [
    "気がついたかもしれないが実はグループBの設定式は無くてもOK。グループAの条件を満たしていれば必然的にグループBの条件も満たすから。\n",
    "\n",
    "グループBの条件式をコメントアウトして実行してみよう。"
   ]
  },
  {
   "cell_type": "code",
   "execution_count": 2,
   "metadata": {},
   "outputs": [
    {
     "name": "stdout",
     "output_type": "stream",
     "text": [
      "offset\n",
      "67636\n",
      "[{'q0': 0, 'q1': 1, 'q2': 0, 'q3': 1, 'q4': 1, 'q5': 0}, -67636.0, 24]\n",
      "[{'q0': 1, 'q1': 0, 'q2': 1, 'q3': 0, 'q4': 0, 'q5': 1}, -67636.0, 23]\n",
      "[{'q0': 0, 'q1': 0, 'q2': 0, 'q3': 1, 'q4': 0, 'q5': 1}, -67436.0, 25]\n",
      "[{'q0': 1, 'q1': 1, 'q2': 1, 'q3': 0, 'q4': 1, 'q5': 0}, -67436.0, 28]\n"
     ]
    }
   ],
   "source": [
    "import numpy as np\n",
    "\n",
    "numbers = np.array([15, 25, 33, 41, 64, 82])\n",
    "\n",
    "q = symbols_list(len(numbers))\n",
    "z = 2*q - 1  # イジング変数\n",
    "\n",
    "# -1 と +1 の個数が同じ\n",
    "# -1 のイジング変数も +1 のイジング変数も、担当する数字の和がバランスする\n",
    "H = sum(z)**2 + sum(numbers * z)**2\n",
    "\n",
    "qubo, offset = Compile(H).get_qubo()\n",
    "print(f'offset\\n{offset}')\n",
    "\n",
    "solver = sampler.SASampler()\n",
    "\n",
    "result = solver.run(qubo)\n",
    "\n",
    "for r in result:\n",
    "    print(r)"
   ]
  }
 ],
 "metadata": {
  "colab": {
   "provenance": [],
   "toc_visible": true
  },
  "kernelspec": {
   "display_name": "Python 3 (ipykernel)",
   "language": "python",
   "name": "python3"
  },
  "language_info": {
   "codemirror_mode": {
    "name": "ipython",
    "version": 3
   },
   "file_extension": ".py",
   "mimetype": "text/x-python",
   "name": "python",
   "nbconvert_exporter": "python",
   "pygments_lexer": "ipython3",
   "version": "3.10.9"
  }
 },
 "nbformat": 4,
 "nbformat_minor": 4
}
