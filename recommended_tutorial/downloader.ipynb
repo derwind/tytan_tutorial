{
 "cells": [
  {
   "cell_type": "code",
   "execution_count": null,
   "id": "bbdd82fd-d556-4699-abdb-0b58dadcb7d4",
   "metadata": {},
   "outputs": [],
   "source": [
    "from google_drive_downloader import GoogleDriveDownloader as gdd"
   ]
  },
  {
   "cell_type": "code",
   "execution_count": null,
   "id": "28020f63-c380-4cee-8bfa-698bd934b452",
   "metadata": {},
   "outputs": [],
   "source": [
    "file_id2path = {\n",
    "    '1cPM7qx-mTIqxHQztKHJuW3EaCHn5hegg': 'tutorial01_maxcut.ipynb',\n",
    "    '1OkfbSQskWgyzKpbElqMEpd4ZhU9X05vv': 'tutorial02_thermometer.ipynb',\n",
    "    '18pth1OMi2c9YO-hUC1sPxpjSKJoRnPIE': 'tutorial03_divide_numbers.ipynb',\n",
    "    '1OYLy5kEcYwK59nCJH7IUZOU2gQc3w-Ku': 'tutorial04_shift_schedule_optimization.ipynb',\n",
    "    '1oOEfCP9Ds9RvNwuE2Ri8PPw0o-FeW2TU': 'tutorial05_build_bridge.ipynb',\n",
    "    '1WwsQkrIGS7YMz26BvrExIBD3MvpxEhzT': 'tutorial06_drawing.ipynb',\n",
    "    '1ENTU11JxMPujaNx0MJ3gycamt8rZB3Xw': 'tutorial07_clustering.ipynb',\n",
    "    '17EVg0h-yMPm_qYLw8XMsCwCydaSDqajx': 'tutorial08_tsp.ipynb',\n",
    "    '1Tdi6jJUtgStU4ip6F0t0NUXxn7urPH8d': 'tutorial09_simultaneous_equations.ipynb',\n",
    "    '1Zt9FFF48S0tYRgpoiTOaLxiaHpWjTgLg': 'tutorial10_linear_regression.ipynb',\n",
    "    '128pWGsIQc5SZRZAwL-2cOlaWu5IbBZwT': 'tutorial11_knapsack.ipynb',\n",
    "    '1ty72wZZyWtxLsCkDPeHlYo-MTmpxzeVY': 'supplement01_dominosa.ipynb',\n",
    "    '1oRoYlTXzLq6uLoG_gm4kX6gLAPZN0Fw8': 'supplement02_museum.ipynb',\n",
    "    '1-vrk7FUOGxf4odsB8KRe0lwjC-yf4ChN': 'supplement03_kakurasu.ipynb',\n",
    "    '1jP54pecRhdMgI1BMtdcI_sXWM1UZkjTm': 'supplement04_number_place.ipynb',\n",
    "    '1bMO0k-uvSkj8x0Hjrx-7nsI694w6s5S_': 'challenge01_star_battle.ipynb',\n",
    "    '11UzMBeLhuVIiuo7QpoMHQKcP-2OGNnRs': 'challenge02_pythagorean_triple.ipynb',\n",
    "    '1dRgHQq5kWxVkQ2-y9NL266kROnq_sVeW': 'challenge03_job_sequence.ipynb',\n",
    "    '1BLTWenIX0cjffwH9B6mpw-HRE24BkSNj': 'challenge04_springs.ipynb',\n",
    "}"
   ]
  },
  {
   "cell_type": "code",
   "execution_count": null,
   "id": "f64d8621-dbbf-4b18-8c4e-678d2623a4e0",
   "metadata": {},
   "outputs": [],
   "source": [
    "for file_id, dest_path in file_id2path.items():\n",
    "    gdd.download_file_from_google_drive(file_id=file_id,\n",
    "                                        dest_path='./' + dest_path,\n",
    "                                        unzip=False)"
   ]
  }
 ],
 "metadata": {
  "kernelspec": {
   "display_name": "Python 3 (ipykernel)",
   "language": "python",
   "name": "python3"
  },
  "language_info": {
   "codemirror_mode": {
    "name": "ipython",
    "version": 3
   },
   "file_extension": ".py",
   "mimetype": "text/x-python",
   "name": "python",
   "nbconvert_exporter": "python",
   "pygments_lexer": "ipython3",
   "version": "3.10.9"
  }
 },
 "nbformat": 4,
 "nbformat_minor": 5
}
