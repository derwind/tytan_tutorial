{
 "cells": [
  {
   "cell_type": "markdown",
   "id": "afd500c8",
   "metadata": {},
   "source": [
    "## 二値整数計画問題\n",
    "連立方程式を満たしたうえである計算を最小化する、制約付きの最小値問題です。  \n",
    "より正確には、$Sx = b$を満たすベクトル$x$のうち、$cx$を最小にするxを探します"
   ]
  },
  {
   "cell_type": "markdown",
   "id": "2d140a6d",
   "metadata": {},
   "source": [
    "### QUBO\n",
    "この問題は二つの式から成り立ちます。連立方程式の制約を満たすための$H_A$と最小コストを求めるための$H_B$です。\n",
    "\n",
    "連立方程式を満たす式\n",
    "$$\n",
    "H_A = \\sum_{j=1}^m[b_j - \\sum_{i=1}^NS_{ji}x_i]^2\n",
    "$$\n",
    "\n",
    "ベクトルの計算を最小化する式\n",
    "$$\n",
    "H_B = - \\sum_{i=1}^Nc_ix_i\n",
    "$$\n",
    "\n",
    "つないだ式。つなぐときには調整パラメーターが必要になりますので、$\\lambda$を付けました。\n",
    "$$\n",
    "H = H_A + \\lambda*H_B = \\sum_{j=1}^m[b_j - \\sum_{i=1}^NS_{ji}x_i]^2 - \\lambda*\\sum_{i=1}^Nc_ix_i\n",
    "$$"
   ]
  },
  {
   "cell_type": "markdown",
   "id": "076bc0c0",
   "metadata": {},
   "source": [
    "### 例題\n",
    "\n",
    "下記を満たすxのうち、\n",
    "\n",
    "$$\n",
    "\\begin{bmatrix}\n",
    "3 & 2 & 1 \\\\\n",
    "5 & 2 & 3\n",
    "\\end{bmatrix}\n",
    "\\begin{bmatrix}\n",
    "x_0\\\\x_1\\\\x_2\n",
    "\\end{bmatrix}\n",
    "=\n",
    "\\begin{bmatrix}\n",
    "3\\\\5\n",
    "\\end{bmatrix}\n",
    "$$\n",
    "\n",
    "次の式を最小にするようなxを求める。\n",
    "\n",
    "$$\n",
    "- \\begin{bmatrix}\n",
    "1&2&1\n",
    "\\end{bmatrix}\n",
    "\\begin{bmatrix}\n",
    "x_0\\\\x_1\\\\x_2\n",
    "\\end{bmatrix}\n",
    "$$\n",
    "\n",
    "制約条件を満たすとき、QUBO式は0になります。  \n",
    "そのため、0にならなかったら制約を満たしていないというのがすぐにわかります。  \n",
    "制約を満たしてなかったらそもそも答えとして成立しません。"
   ]
  },
  {
   "cell_type": "code",
   "execution_count": 1,
   "id": "6e3647f3",
   "metadata": {
    "tags": []
   },
   "outputs": [
    {
     "name": "stdout",
     "output_type": "stream",
     "text": [
      "{('q_{0}', 'q_{0}'): -44.0, ('q_{1}', 'q_{1}'): -44.0, ('q_{2}', 'q_{2}'): -36.0, ('q_{1}', 'q_{2}'): 16.0, ('q_{0}', 'q_{1}'): 32.0, ('q_{0}', 'q_{2}'): 36.0} 34\n",
      "[[{'q_{0}': 0, 'q_{1}': 1, 'q_{2}': 1}, -64.0, 49], [{'q_{0}': 1, 'q_{1}': 1, 'q_{2}': 0}, -56.0, 51]]\n"
     ]
    }
   ],
   "source": [
    "from tytan import symbols, Compile, sampler\n",
    "\n",
    "# 変数を定義 q_0, q_1, q_2\n",
    "q = symbols(\"q_{0:3}\")\n",
    "\n",
    "#式を別々に用意します。\n",
    "HA = (3*q[0]+2*q[1]+q[2]-3)**2 + (5*q[0]+2*q[1]+3*q[2]-5)**2\n",
    "HB = -(q[0]+2*q[1]+q[2])\n",
    "\n",
    "#つけるときに今回はConstraint関数を使うことであとで簡単に確かめができます。Constraintは制約条件の方だけにつけます。\n",
    "M = 10\n",
    "H = HA + M*HB\n",
    "\n",
    "# Compileクラスを使用して、QUBOを取得\n",
    "Q, offset = Compile(H).get_qubo()\n",
    "\n",
    "print(Q,offset)\n",
    "\n",
    "# サンプラーを選択\n",
    "solver = sampler.SASampler()\n",
    "\n",
    "#クラウドサンプラーの場合\n",
    "#API_KEY = \"API key\"\n",
    "#solver = sampler.NQSSampler()\n",
    "#result = solver.run(Q, api_key=API_KEY)\n",
    "\n",
    "# 計算\n",
    "result = solver.run(Q, shots=100)\n",
    "print(result)"
   ]
  },
  {
   "cell_type": "code",
   "execution_count": 2,
   "id": "e6b438fe-8d10-4663-8a79-65f9a1b9ac59",
   "metadata": {
    "tags": []
   },
   "outputs": [
    {
     "name": "stdout",
     "output_type": "stream",
     "text": [
      "Sample = {'q_{0}': 0, 'q_{1}': 1, 'q_{2}': 1}\n",
      "Cost = -30.0000000000000\n"
     ]
    }
   ],
   "source": [
    "print(\"Sample =\", result[0][0])\n",
    "print(\"Cost =\", result[0][1] + offset)"
   ]
  },
  {
   "cell_type": "markdown",
   "id": "2a0d17c6",
   "metadata": {},
   "source": [
    "011が正解で、コストが-30.0となりました。"
   ]
  }
 ],
 "metadata": {
  "kernelspec": {
   "display_name": "Python 3 (ipykernel)",
   "language": "python",
   "name": "python3"
  },
  "language_info": {
   "codemirror_mode": {
    "name": "ipython",
    "version": 3
   },
   "file_extension": ".py",
   "mimetype": "text/x-python",
   "name": "python",
   "nbconvert_exporter": "python",
   "pygments_lexer": "ipython3",
   "version": "3.10.9"
  }
 },
 "nbformat": 4,
 "nbformat_minor": 5
}
