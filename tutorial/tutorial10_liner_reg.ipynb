{
 "cells": [
  {
   "cell_type": "markdown",
   "id": "e9fb259e",
   "metadata": {},
   "source": [
    "## 組合せ最適化問題\n",
    "量子コンピュータで最適化問題を解くには、イジングモデルといわれる物理モデルを利用する。"
   ]
  },
  {
   "cell_type": "markdown",
   "id": "e9bdfeac",
   "metadata": {},
   "source": [
    "## QUBO定式化\n",
    "QUBOは問題の答えが小さいほうが正解になるように設定された式です。式の形は、\n",
    "\n",
    "$$\n",
    "QUBO = -\\sum_i h_i q_i -\\sum_{i,j}J_{ij}q_iq_j\n",
    "$$\n",
    "\n",
    "となっている。iとjは点を表し、hはバイアス（局所磁場）、Jは相互作用と呼ばれます。この式ではqは量子ビットを表し0か1を取ります（イジングの場合は+1か-1）。\n",
    "私たちはhとJを問題として設定し、qの値を求めます。"
   ]
  },
  {
   "cell_type": "markdown",
   "id": "c94dc739",
   "metadata": {},
   "source": [
    "## 問題設定の仕方\n",
    "問題の設定の仕方は、グラフ問題というものに問題を落とすことで計算できますが、いくつか問題を解くことでコツをつかめます。\n",
    "\n",
    "主に問題のコスト関数は二種類の式を考える必要があります。\n",
    "\n",
    "１．小さくしたいコスト関数  \n",
    "２．満たすべき条件（制約条件）\n",
    "\n",
    "この二つを別々に設計し、つなげることで実装できます。片方しかない式もあります。"
   ]
  },
  {
   "cell_type": "markdown",
   "id": "246ac169",
   "metadata": {},
   "source": [
    "## 使うツール\n",
    "\n",
    "networkx（ネットワークグラフを書く）  \n",
    "matplotlib（各種のグラフを書く）  \n",
    "numpy（数値ライブラリ）"
   ]
  },
  {
   "cell_type": "code",
   "execution_count": null,
   "id": "87d5196a",
   "metadata": {
    "scrolled": true,
    "tags": []
   },
   "outputs": [],
   "source": [
    "!pip install --quiet networkx matplotlib"
   ]
  },
  {
   "cell_type": "markdown",
   "id": "0820e81a",
   "metadata": {},
   "source": [
    "## 線形回帰\n",
    "2次元のデータの組み合わせ$x_i,y_i(i=1,2,3,...,N)$があるときに, \n",
    "データをよくフィッティングする直線の方程式\n",
    "$$\n",
    "y=ax+b\n",
    "$$\n",
    "を求める問題\n",
    "$i$番目のデータを当てはめると, \n",
    "$$\n",
    "y_i = ax_i+b\n",
    "$$\n",
    "の式を得る. 右辺を移行して, 2乗すると, \n",
    "$$\n",
    "\\lbrace y_i-(ax_i+b)\\rbrace^2=0\n",
    "$$\n",
    "$x_i, y_i$はデータなので上の式は0にならないが, 上式が最小になるような$a,b$を求める. \n",
    "\n",
    "$$\n",
    "\\sum_i \\lbrace y_i-(ax_i+b)\\rbrace^2\n",
    "$$\n",
    "\n",
    "$a,b$は実数なので, QUBO式にするために精度ベクトル\n",
    "$$\n",
    "p=(-1,-0.5,0.5,1)\n",
    "$$\n",
    "を用意して実数を作る. \n",
    "$$\n",
    "a=\\sum p_j a_j\n",
    "$$\n",
    "\n",
    "$$\n",
    "b=\\sum p_j b_j\n",
    "$$\n",
    "\n",
    "以上より, QUBO式は, \n",
    "最小化したいコスト関数\n",
    "$$\n",
    "\\begin{align*}\n",
    "COST&=\\sum_i \\lbrace y_i-(ax_i+b)\\rbrace^2 \\\\\n",
    "&=\\sum_i \\lbrace y_i-(\\sum_j p_j a_j x_i+\\sum_j p_j b_j)\\rbrace^2\n",
    "\\end{align*}\n",
    "$$\n",
    "$a_j,b_j$のバイナリ変数を求める. "
   ]
  },
  {
   "cell_type": "code",
   "execution_count": 1,
   "id": "df8db8d5",
   "metadata": {},
   "outputs": [
    {
     "data": {
      "image/png": "[encoded data removed]",
      "text/plain": [
       "<Figure size 500x300 with 1 Axes>"
      ]
     },
     "metadata": {},
     "output_type": "display_data"
    }
   ],
   "source": [
    "import numpy as np\n",
    "import matplotlib.pyplot as plt\n",
    "\n",
    "x = np.array([1,2,4,6,7])\n",
    "y = np.array([1,3,3,5,4])\n",
    "\n",
    "plt.figure(figsize=(5,3))\n",
    "plt.scatter(x, y)\n",
    "plt.show()"
   ]
  },
  {
   "cell_type": "code",
   "execution_count": 2,
   "id": "f18bd844",
   "metadata": {},
   "outputs": [
    {
     "name": "stdout",
     "output_type": "stream",
     "text": [
      "[0 0 1 0 0 0 0 1] 2\n",
      "[0 0 1 0 0 1 1 1] 2\n",
      "[0 1 0 1 0 0 0 1] 2\n",
      "[0 1 0 1 0 1 1 1] 2\n",
      "[1 0 1 1 0 0 0 1] 2\n",
      "[1 0 1 1 0 1 1 1] 2\n"
     ]
    }
   ],
   "source": [
    "import numpy as np\n",
    "from matplotlib import pyplot as plt\n",
    "from tytan import symbols, Auto_array, Compile, sampler\n",
    "\n",
    "N=8\n",
    "#量子ビット\n",
    "#q = Array.create('q', shape=N, vartype='BINARY')\n",
    "q = symbols(\"q_{0:\"+str(N)+\"}\")\n",
    "\n",
    "p=np.array([-1,-0.5,0.5,1.0])\n",
    "\n",
    "HA=0\n",
    "for i in range(5):\n",
    "    a=0\n",
    "    b=0\n",
    "    for j in range(4):\n",
    "        a += p[j]*q[j]*x[i]\n",
    "        b += p[j]*q[j+4]\n",
    "    HA += (y[i]-a-b)**2\n",
    "\n",
    "H = HA\n",
    "\n",
    "Q, offset = Compile(H).get_qubo()\n",
    "\n",
    "solver = sampler.SASampler()\n",
    "result = solver.run(Q)\n",
    "for r in result:\n",
    "    arr, subs = Auto_array(r[0]).get_ndarray('q{}')\n",
    "    print(arr, int(r[1] + offset))"
   ]
  },
  {
   "cell_type": "code",
   "execution_count": 3,
   "id": "ecf79444",
   "metadata": {},
   "outputs": [
    {
     "name": "stdout",
     "output_type": "stream",
     "text": [
      "0.5 1.0\n"
     ]
    }
   ],
   "source": [
    "a=np.array([1,0,1,1])\n",
    "b=np.array([0,0,0,1])\n",
    "\n",
    "A=0\n",
    "B=0\n",
    "for i in range(4):\n",
    "    A+=p[i]*a[i]\n",
    "    B+=p[j]*b[i]\n",
    "print(A,B)"
   ]
  },
  {
   "cell_type": "code",
   "execution_count": 4,
   "id": "79771264",
   "metadata": {},
   "outputs": [
    {
     "data": {
      "image/png": "[encoded data removed]",
      "text/plain": [
       "<Figure size 500x300 with 1 Axes>"
      ]
     },
     "metadata": {},
     "output_type": "display_data"
    }
   ],
   "source": [
    "import matplotlib.pyplot as plt\n",
    "\n",
    "x = np.array([1,2,4,6,7])\n",
    "y = np.array([1,3,3,5,4])\n",
    "\n",
    "plt.figure(figsize=(5,3))\n",
    "plt.scatter(x, y)\n",
    "\n",
    "x = np.arange(0, 10, 0.1)\n",
    "y = x * 0.5 + 1.0\n",
    "plt.plot(x, y)\n",
    "plt.show()"
   ]
  }
 ],
 "metadata": {
  "kernelspec": {
   "display_name": "Python 3 (ipykernel)",
   "language": "python",
   "name": "python3"
  },
  "language_info": {
   "codemirror_mode": {
    "name": "ipython",
    "version": 3
   },
   "file_extension": ".py",
   "mimetype": "text/x-python",
   "name": "python",
   "nbconvert_exporter": "python",
   "pygments_lexer": "ipython3",
   "version": "3.10.9"
  }
 },
 "nbformat": 4,
 "nbformat_minor": 5
}
