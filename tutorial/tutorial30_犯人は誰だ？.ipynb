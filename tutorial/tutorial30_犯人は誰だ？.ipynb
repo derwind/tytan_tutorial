{
  "nbformat": 4,
  "nbformat_minor": 0,
  "metadata": {
    "colab": {
      "provenance": [],
      "toc_visible": true
    },
    "kernelspec": {
      "name": "python3",
      "display_name": "Python 3"
    },
    "language_info": {
      "name": "python"
    }
  },
  "cells": [
    {
      "cell_type": "markdown",
      "source": [
        "## TYTANチュートリアル（犯人は誰だ？）\n",
        "\n",
        "2023年5月20日\n",
        "\n",
        "ビネクラ安田\n",
        "\n",
        "出典：[量子アニーリング（QUBO）で論理クイズ「犯人は誰だ？」を解く](https://vigne-cla.com/21-24/)"
      ],
      "metadata": {
        "id": "wD0xnOSEwDir"
      }
    },
    {
      "cell_type": "markdown",
      "source": [
        "### 問題\n",
        "論理パズルでよく見るやつ。\n",
        "\n",
        "**【問題】<br>A, B, C, Dの中に犯人が１人います。犯人は嘘をつき、他の人は本当のことを証言します。犯人は誰でしょうか？**\n",
        "\n",
        "*   A「僕とCは犯人ではない」\n",
        "*   B「犯人はA, C, Dの誰か」\n",
        "*   C「Eは犯人ではない」\n",
        "*   D「A, C, Eは犯人ではない」\n",
        "*   E「犯人はA, Bのどちらか」\n"
      ],
      "metadata": {
        "id": "NrPx2FvzyDYI"
      }
    },
    {
      "cell_type": "markdown",
      "source": [
        "### QUBOモデルでは何が設定できるか？（おさらい）\n",
        "\n",
        "**「n個の量子ビットからm個を1にする」**\n",
        "\n",
        "例）3個の量子ビットから2個を1にする\n",
        "```\n",
        "H = (q1 + q2 + q3 - 2)**2\n",
        "```\n",
        "\n",
        "**「2個の量子ビットが同時に<font color=\"red\">1</font>になったら報酬を与える」**\n",
        "\n",
        "例）2個の量子ビットが同時に1になったら報酬を与える\n",
        "```\n",
        "H = -(q0 * q1)\n",
        "```\n",
        "\n",
        "**「2個の量子ビットが同時に<font color=\"red\">0</font>になったら報酬を与える」**\n",
        "\n",
        "例）2個の量子ビットが同時に0になったら報酬を与える\n",
        "```\n",
        "H = -(1 - q0) * (1 - q1)\n",
        "```\n",
        "\n",
        "今回はこれだけを使うが、その他の条件式も気になる方は → [量子アニーリングのQUBOで設定可能な条件式まとめ（保存版）](https://vigne-cla.com/21-12/)"
      ],
      "metadata": {
        "id": "V8VJ0QJH0UNS"
      }
    },
    {
      "cell_type": "markdown",
      "source": [
        "### 制約条件\n",
        "\n",
        "各人に5個の量子ビット（量子ビット名：A～E）を割り当て、１になったら犯人とする。\n",
        "\n",
        "まず、5人の中に犯人が1人いるので「5個の量子ビットから1つだけ1になる」を設定する。この条件は必ず満たす必要があるので**強い条件**（重み1）である。\n",
        "```\n",
        "H = (A + B + C + D + E - 1)**2\n",
        "```\n",
        "\n",
        "次に、各人の証言を「もし～なら～が成り立つ」というif文を使って言い換える。「もし自分が正直者なら、自分の証言が成り立つ」という意味。\n",
        "\n",
        "*   「もしAが0なら、A, Cは0」\n",
        "*   「もしBが0なら、A, C, Dのどれかが1」\n",
        "*   「もしCが0なら、Eは0」\n",
        "*   「もしDが0なら、A, C, Eは0」\n",
        "*   「もしEが0なら、A, Bのどれかが1」\n",
        "\n",
        "さらにこれを「◯◯かつ✕✕なら報酬を与える」に言い換える。分配法則のようなイメージで。\n",
        "\n",
        "*   A=0かつA=0なら報酬、A=0かつC=0なら報酬\n",
        "*   B=0かつA=1なら報酬、B=0かつC=1なら報酬、B=0かつD=1なら報酬\n",
        "*   C=0かつE=0なら報酬\n",
        "*   D=0かつA=0なら報酬、D=0かつC=0なら報酬、D=0かつE=0なら報酬\n",
        "*   E=0かつA=1なら報酬、E=0かつB=1なら報酬\n",
        "\n",
        "例えば、「B=0かつC=1なら報酬」の部分は次のように設定できる。\n",
        "\n",
        "```\n",
        "H = -0.1 * ((1 - B) * C)\n",
        "```\n",
        "\n",
        "なお、これら証言の重みを1にしてしまうと報酬欲しさに犯人を2人にしてしまう可能性がある。したがってここは**弱い条件**（重み0.1）とする。"
      ],
      "metadata": {
        "id": "1gewbtcP20NU"
      }
    },
    {
      "cell_type": "markdown",
      "source": [
        "## コード"
      ],
      "metadata": {
        "id": "aRt4eclUEy3i"
      }
    },
    {
      "cell_type": "code",
      "source": [
        "!pip install git+https://github.com/tytansdk/tytan"
      ],
      "metadata": {
        "id": "RLVRSk--Ae4D"
      },
      "execution_count": null,
      "outputs": []
    },
    {
      "cell_type": "code",
      "source": [
        "from sympy import Symbol\n",
        "from tytan import qubo, sampler\n",
        "\n",
        "#量子ビットを用意する\n",
        "A = Symbol('qA')\n",
        "B = Symbol('qB')\n",
        "C = Symbol('qC')\n",
        "D = Symbol('qD')\n",
        "E = Symbol('qE')\n",
        "\n",
        "#5人の中に犯人が1人いる（強い条件）\n",
        "H = 0\n",
        "H += (A + B + C + D + E - 1)**2\n",
        "\n",
        "#各人の証言（成り立てば弱い報酬）\n",
        "H += -0.1 * ((1 - A) * (1 - A))\n",
        "H += -0.1 * ((1 - A) * (1 - C))\n",
        "\n",
        "H += -0.1 * ((1 - B) * A)\n",
        "H += -0.1 * ((1 - B) * C)\n",
        "H += -0.1 * ((1 - B) * D)\n",
        "\n",
        "H += -0.1 * ((1 - C) * (1 - E))\n",
        "\n",
        "H += -0.1 * ((1 - D) * (1 - A))\n",
        "H += -0.1 * ((1 - D) * (1 - C))\n",
        "H += -0.1 * ((1 - D) * (1 - E))\n",
        "\n",
        "H += -0.1 * ((1 - E) * A)\n",
        "H += -0.1 * ((1 - E) * B)\n",
        "\n",
        "\n",
        "#コンパイル\n",
        "QUBO, offset = qubo.Compile(H).get_qubo()\n",
        "\n",
        "#サンプラー選択\n",
        "solver = sampler.SASampler()\n",
        "\n",
        "#サンプリング\n",
        "result = solver.run(QUBO, shots=500)\n",
        "\n",
        "#結果\n",
        "for r in result:\n",
        "    print(r)"
      ],
      "metadata": {
        "colab": {
          "base_uri": "https://localhost:8080/"
        },
        "id": "DyzHJ_niCiak",
        "outputId": "5fa74b81-b6fd-49fd-d1db-94b7a40b1e6a"
      },
      "execution_count": 3,
      "outputs": [
        {
          "output_type": "stream",
          "name": "stdout",
          "text": [
            "[{'qA': 0.0, 'qB': 1.0, 'qC': 0.0, 'qD': 0.0, 'qE': 0.0}, -1.1, 252]\n",
            "[{'qA': 1.0, 'qB': 0.0, 'qC': 0.0, 'qD': 0.0, 'qE': 0.0}, -0.8999999999999998, 248]\n"
          ]
        }
      ]
    },
    {
      "cell_type": "markdown",
      "source": [
        "犯人はBだとわかった。解のエネルギーは叶った報酬の数によるが、これは問題からは予想が難しいと思われる。"
      ],
      "metadata": {
        "id": "M031KDq0kZRo"
      }
    },
    {
      "cell_type": "markdown",
      "source": [
        "このままだとこのチュートリアルが文章だけになってしまうので、紙とペンで解く方法も図解する。\n",
        "\n",
        "まず、「～が犯人だ」を「～は犯人ではない」に言い換える。次のように表を用意して、犯人ではないと証言された部分にNoを書き、Noの数を縦に集計する。Noが0個の人が犯人である。\n",
        "\n",
        "<div align=\"center\">\n",
        "<img src=\"https://vigne-cla.com/wp-content/uploads/2023/05/21-24_2.png\" width = 45%>\n",
        "</div>\n",
        "\n",
        "ただ、通常はNoが0個の人はいない。そこで対角成分を無効にして集計する。これは犯人による「自分は犯人ではない」という証言を無効にするため。これで答えが得られるはず。"
      ],
      "metadata": {
        "id": "kNyTwt57Ki8R"
      }
    }
  ]
}