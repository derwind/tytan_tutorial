{
  "nbformat": 4,
  "nbformat_minor": 0,
  "metadata": {
    "colab": {
      "provenance": [],
      "toc_visible": true
    },
    "kernelspec": {
      "name": "python3",
      "display_name": "Python 3"
    },
    "language_info": {
      "name": "python"
    }
  },
  "cells": [
    {
      "cell_type": "markdown",
      "source": [
        "## TYTANチュートリアル（カクラス）\n",
        "\n",
        "2023年5月5日\n",
        "\n",
        "ビネクラ安田\n",
        "\n",
        "出典：[量子アニーリング（D-wave）でカクラス（Kakurasu）を解く](https://vigne-cla.com/21-17/)\n"
      ],
      "metadata": {
        "id": "wD0xnOSEwDir"
      }
    },
    {
      "cell_type": "markdown",
      "source": [
        "### 問題\n",
        "カクラス（Kakurasu）は掛け算の計算が必要な <s>面倒な</s> 変わったパズル。\n",
        "\n",
        "<div align=\"center\">\n",
        "<img src=\"https://vigne-cla.com/wp-content/uploads/2023/05/21-17_1.png\" width = 20%>\n",
        "</div>\n",
        "\n",
        "答えはこちら。\n",
        "\n",
        "<div align=\"center\">\n",
        "<img src=\"https://vigne-cla.com/wp-content/uploads/2023/05/21-17_2.png\" width = 20%>\n",
        "</div>\n",
        "\n",
        "上辺・左辺の小さな数字が各列のマスの重みを表す。白マスを０、黒マスを１と考えて、各マスの重みをかけて合計した数値が右辺・下辺の数字と一致するように塗る。例えば、一番上の行は １×１＋２×０＋３×０＋４×１＝５ を意味している（赤字がマスの色に対応）。"
      ],
      "metadata": {
        "id": "NrPx2FvzyDYI"
      }
    },
    {
      "cell_type": "markdown",
      "source": [
        "### QUBOモデルでは何が設定できるか？（おさらい）\n",
        "\n",
        "**<font color=\"red\">「n個の量子ビットからm個を1にする」</font>**\n",
        "\n",
        "例）3個の量子ビットから2個を1にする\n",
        "```\n",
        "H = (q1 + q2 + q3 - 2)**2\n",
        "```\n",
        "\n",
        "今回はこの基本の条件設定を改造して使う。その他の条件式も気になる方は → [量子アニーリングのQUBOで設定可能な条件式まとめ（保存版）](https://vigne-cla.com/21-12/)"
      ],
      "metadata": {
        "id": "V8VJ0QJH0UNS"
      }
    },
    {
      "cell_type": "markdown",
      "source": [
        "### 条件設定\n",
        "\n",
        "16個の量子ビットを各マスに対応させる。結果が１なら黒マス（＝重み有効）と考える。\n",
        "\n",
        "<div align=\"center\">\n",
        "<img src=\"https://vigne-cla.com/wp-content/uploads/2023/05/21-17_3-300x293.png\" width = 20%>\n",
        "</div>\n",
        "\n",
        "一行だけ取り出して考える。この行は「1×q0＋2×q1＋3×q2＋4×q3＝5」にしたい。\n",
        "\n",
        "<div align=\"center\">\n",
        "<img src=\"https://vigne-cla.com/wp-content/uploads/2023/05/21-17_4-768x120.png\" width = 55%>\n",
        "</div>\n",
        "\n",
        "ここで基本の条件設定を思い浮かべる。「４個の量子ビットからｍ個を１にする」は次の式。\n",
        "\n",
        "```\n",
        "H = (q1 + q2 + q3 - 2)**2\n",
        "```\n",
        "\n",
        "これはつまり、**４個の量子ビットを足した値がｍになる**ということ。合計値がｍであればエネルギーは最小で、合計値がｍからずれるとエネルギーが高くなる。\n",
        "\n",
        "ここで、４つの量子ビットを足す際に重みをかける。\n",
        "\n",
        "```\n",
        "H = (1*q0 + 2*q1 + 3*q2 + 4*q3 - 5)**2\n",
        "```\n",
        "\n",
        "実はこれで式が完成。**「1×q0＋2×q1＋3×q2＋4×q3」の部分が５のときにエネルギーは最小**となり、５からずれるとエネルギーが高くなる。少し柔軟な発想が必要だ。"
      ],
      "metadata": {
        "id": "1gewbtcP20NU"
      }
    },
    {
      "cell_type": "markdown",
      "source": [
        "## コード"
      ],
      "metadata": {
        "id": "aRt4eclUEy3i"
      }
    },
    {
      "cell_type": "code",
      "source": [
        "!pip install git+https://github.com/tytansdk/tytan"
      ],
      "metadata": {
        "id": "RLVRSk--Ae4D"
      },
      "execution_count": null,
      "outputs": []
    },
    {
      "cell_type": "code",
      "source": [
        "from sympy import Symbol\n",
        "from tytan import qubo, sampler\n",
        "import numpy as np\n",
        "\n",
        "#量子ビットを用意する\n",
        "q00 = Symbol('q00')\n",
        "q01 = Symbol('q01')\n",
        "q02 = Symbol('q02')\n",
        "q03 = Symbol('q03')\n",
        "q04 = Symbol('q04')\n",
        "q05 = Symbol('q05')\n",
        "q06 = Symbol('q06')\n",
        "q07 = Symbol('q07')\n",
        "q08 = Symbol('q08')\n",
        "q09 = Symbol('q09')\n",
        "q10 = Symbol('q10')\n",
        "q11 = Symbol('q11')\n",
        "q12 = Symbol('q12')\n",
        "q13 = Symbol('q13')\n",
        "q14 = Symbol('q14')\n",
        "q15 = Symbol('q15')\n",
        "\n",
        "#各行、「重み付き合計値が指定の値になる」\n",
        "H = 0\n",
        "H += (1*q00 + 2*q01 + 3*q02 + 4*q03 - 5)**2\n",
        "H += (1*q04 + 2*q05 + 3*q06 + 4*q07 - 7)**2\n",
        "H += (1*q08 + 2*q09 + 3*q10 + 4*q11 - 5)**2\n",
        "H += (1*q12 + 2*q13 + 3*q14 + 4*q15 - 8)**2\n",
        "\n",
        "#各列、「重み付き合計値が指定の値になる」\n",
        "H += (1*q00 + 2*q04 + 3*q08 + 4*q12 - 5)**2\n",
        "H += (1*q01 + 2*q05 + 3*q09 + 4*q13 - 3)**2\n",
        "H += (1*q02 + 2*q06 + 3*q10 + 4*q14 - 9)**2\n",
        "H += (1*q03 + 2*q07 + 3*q11 + 4*q15 - 7)**2\n",
        "\n",
        "\n",
        "#コンパイル\n",
        "QUBO, offset = qubo.Compile(H).get_qubo()\n",
        "\n",
        "#サンプラー選択\n",
        "solver = sampler.SASampler()\n",
        "\n",
        "#サンプリング\n",
        "result = solver.run(QUBO, shots=500)\n",
        "\n",
        "#上位5件\n",
        "for r in result[:5]:\n",
        "    print(r)\n",
        "\n",
        "#上位2件\n",
        "print(np.array(list(result[0][0].values()), int).reshape(4, 4))\n",
        "print(np.array(list(result[1][0].values()), int).reshape(4, 4))"
      ],
      "metadata": {
        "colab": {
          "base_uri": "https://localhost:8080/"
        },
        "id": "DyzHJ_niCiak",
        "outputId": "89abd5dd-7ed8-4314-9e4f-d54fd95e19b5"
      },
      "execution_count": 2,
      "outputs": [
        {
          "output_type": "stream",
          "name": "stdout",
          "text": [
            "[{'q00': 1.0, 'q01': 0.0, 'q02': 0.0, 'q03': 1.0, 'q04': 0.0, 'q05': 0.0, 'q06': 1.0, 'q07': 1.0, 'q08': 0.0, 'q09': 1.0, 'q10': 1.0, 'q11': 0.0, 'q12': 1.0, 'q13': 0.0, 'q14': 1.0, 'q15': 1.0}, -327.0, 236]\n",
            "[{'q00': 0.0, 'q01': 0.0, 'q02': 0.0, 'q03': 1.0, 'q04': 0.0, 'q05': 0.0, 'q06': 1.0, 'q07': 1.0, 'q08': 0.0, 'q09': 1.0, 'q10': 1.0, 'q11': 0.0, 'q12': 1.0, 'q13': 0.0, 'q14': 1.0, 'q15': 1.0}, -325.0, 73]\n",
            "[{'q00': 1.0, 'q01': 0.0, 'q02': 0.0, 'q03': 1.0, 'q04': 0.0, 'q05': 0.0, 'q06': 1.0, 'q07': 1.0, 'q08': 1.0, 'q09': 1.0, 'q10': 1.0, 'q11': 0.0, 'q12': 0.0, 'q13': 0.0, 'q14': 1.0, 'q15': 1.0}, -324.0, 41]\n",
            "[{'q00': 1.0, 'q01': 0.0, 'q02': 1.0, 'q03': 0.0, 'q04': 0.0, 'q05': 0.0, 'q06': 1.0, 'q07': 1.0, 'q08': 0.0, 'q09': 1.0, 'q10': 1.0, 'q11': 0.0, 'q12': 1.0, 'q13': 0.0, 'q14': 1.0, 'q15': 1.0}, -324.0, 7]\n",
            "[{'q00': 0.0, 'q01': 1.0, 'q02': 1.0, 'q03': 0.0, 'q04': 1.0, 'q05': 1.0, 'q06': 0.0, 'q07': 1.0, 'q08': 1.0, 'q09': 0.0, 'q10': 1.0, 'q11': 0.0, 'q12': 0.0, 'q13': 0.0, 'q14': 1.0, 'q15': 1.0}, -323.0, 59]\n",
            "[[1 0 0 1]\n",
            " [0 0 1 1]\n",
            " [0 1 1 0]\n",
            " [1 0 1 1]]\n",
            "[[0 0 0 1]\n",
            " [0 0 1 1]\n",
            " [0 1 1 0]\n",
            " [1 0 1 1]]\n"
          ]
        }
      ]
    },
    {
      "cell_type": "markdown",
      "source": [
        "一番目の解は模範解答の通りである。\n",
        "\n",
        "<div align=\"center\">\n",
        "<img src=\"https://vigne-cla.com/wp-content/uploads/2023/05/21-17_2.png\" width = 20%>\n",
        "</div>"
      ],
      "metadata": {
        "id": "M031KDq0kZRo"
      }
    }
  ]
}