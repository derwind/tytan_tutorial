{
 "cells": [
  {
   "cell_type": "markdown",
   "id": "825032b6",
   "metadata": {},
   "source": [
    "## 組合せ最適化問題\n",
    "量子コンピュータで最適化問題を解くには、イジングモデルといわれる物理モデルを利用する。"
   ]
  },
  {
   "cell_type": "markdown",
   "id": "0e4801e6",
   "metadata": {},
   "source": [
    "## QUBO定式化\n",
    "QUBOは問題の答えが小さいほうが正解になるように設定された式です。式の形は、\n",
    "\n",
    "$$\n",
    "QUBO = -\\sum_i h_i q_i -\\sum_{i,j}J_{ij}q_iq_j\n",
    "$$\n",
    "\n",
    "となっている。iとjは点を表し、hはバイアス（局所磁場）、Jは相互作用と呼ばれます。この式ではqは量子ビットを表し0か1を取ります（イジングの場合は+1か-1）。\n",
    "私たちはhとJを問題として設定し、qの値を求めます。"
   ]
  },
  {
   "cell_type": "markdown",
   "id": "0d401f7c",
   "metadata": {},
   "source": [
    "## 問題設定の仕方\n",
    "問題の設定の仕方は、グラフ問題というものに問題を落とすことで計算できますが、いくつか問題を解くことでコツをつかめます。\n",
    "\n",
    "主に問題のコスト関数は二種類の式を考える必要があります。\n",
    "\n",
    "１．小さくしたいコスト関数  \n",
    "２．満たすべき条件（制約条件）\n",
    "\n",
    "この二つを別々に設計し、つなげることで実装できます。片方しかない式もあります。"
   ]
  },
  {
   "cell_type": "code",
   "execution_count": 1,
   "id": "9aeca88c",
   "metadata": {
    "tags": []
   },
   "outputs": [],
   "source": [
    "!pip install --quiet matplotlib"
   ]
  },
  {
   "cell_type": "markdown",
   "id": "4c86325f",
   "metadata": {},
   "source": [
    "## クラスター分割問題\n",
    "与えられたデータを$n$個のデータに分割する問題. \n",
    "\n",
    "### イジング式\n",
    "データを2個のクラスターに分割する場合を考える. \n",
    "スピン変数を$q_i=+1$のときクラスター1に属しているとして, $q_i=-1$のときにクラスター2に属しているとする. \n",
    "\n",
    "$i$番目と$j$番目のデータの距離を$d_{i,j}$とするときに, 距離を最小化するようにイジング式を作ります. \n",
    "\n",
    "$$\n",
    "H = \\sum^N_{i,j} d_{i,j} q_i q_j\n",
    "$$\n",
    "\n",
    "### 問題設定\n",
    "下記のように10個のデータを考えます. "
   ]
  },
  {
   "cell_type": "code",
   "execution_count": 1,
   "id": "03be69ae",
   "metadata": {},
   "outputs": [
    {
     "name": "stdout",
     "output_type": "stream",
     "text": [
      "[{'q_{0}': 0, 'q_{1}': 0, 'q_{2}': 0, 'q_{3}': 0, 'q_{4}': 1, 'q_{5}': 1, 'q_{6}': 0, 'q_{7}': 0, 'q_{8}': 1, 'q_{9}': 0}, -276.8182444664205, 53]\n"
     ]
    },
    {
     "data": {
      "image/png": "[encoded data removed]",
      "text/plain": [
       "<Figure size 400x300 with 1 Axes>"
      ]
     },
     "metadata": {},
     "output_type": "display_data"
    }
   ],
   "source": [
    "import numpy as np\n",
    "from matplotlib import pyplot as plt\n",
    "from tytan import symbols, Compile, sampler\n",
    "\n",
    "\n",
    "\n",
    "x=np.array([0.456418,1.902223,0.512496,1.049233,-1.338122,-1.582395,1.433849,0.574857,-1.388644,1.120863])\n",
    "y=np.array([0.681894,0.598139,0.493532,0.485759,-1.001241,-2.094026,0.346436,1.007253,-1.406806,0.97977])\n",
    "\n",
    "plt.figure(figsize=(4,3))\n",
    "plt.scatter(x, y)\n",
    "\n",
    "#今回は10量子ビット\n",
    "N = 10\n",
    "#q = Array.create('q', shape=(N), vartype='SPIN')\n",
    "q = symbols(\"q_{0:\"+str(N)+\"}\")\n",
    "\n",
    "def dist(i,j):\n",
    "    z=np.sqrt((x[i]-x[j])**2+(y[i]-y[j])**2)\n",
    "    return z\n",
    "    \n",
    "#式A\n",
    "HA=0\n",
    "for i in range(N):\n",
    "    for j in range(N):\n",
    "        HA += dist(i,j)*(2*q[i] - 1)*(2*q[j] - 1)\n",
    "\n",
    "#式をつなげる\n",
    "H=HA\n",
    "\n",
    "Q, offset = Compile(H).get_qubo()\n",
    "\n",
    "solver = sampler.SASampler()\n",
    "result = solver.run(Q)\n",
    "print(result[0])"
   ]
  },
  {
   "cell_type": "code",
   "execution_count": 2,
   "id": "95cd2c51",
   "metadata": {
    "scrolled": true
   },
   "outputs": [
    {
     "data": {
      "image/png": "[encoded data removed]",
      "text/plain": [
       "<Figure size 400x300 with 1 Axes>"
      ]
     },
     "metadata": {},
     "output_type": "display_data"
    }
   ],
   "source": [
    "x=np.array([0.456418,1.902223,0.512496,1.049233,-1.338122,-1.582395,1.433849,0.574857,-1.388644,1.120863])\n",
    "y=np.array([0.681894,0.598139,0.493532,0.485759,-1.001241,-2.094026,0.346436,1.007253,-1.406806,0.97977])\n",
    "#c=np.array([0,0,0,0,1,1,0,0,1,0])\n",
    "c=np.zeros(N)\n",
    "for i in range(N):\n",
    "    if result[0][0][\"q_{\"+str(i)+\"}\"] == 1:\n",
    "        c[i] = 1\n",
    "\n",
    "plt.figure(figsize=(4,3))\n",
    "for i in range(N):\n",
    "    if c[i]==0:\n",
    "        plt.scatter(x[i], y[i],c=\"red\")\n",
    "    else:\n",
    "        plt.scatter(x[i], y[i],c=\"blue\")"
   ]
  },
  {
   "cell_type": "markdown",
   "id": "01a7ea8b",
   "metadata": {},
   "source": [
    "## Nクラスター分割問題\n",
    "データ数$n$、クラスタ数$k$として、$n*k$の量子ビット数が必要。\n",
    "データ数に対してクラスタ数だけコピーを作る。\n",
    "\n",
    "### QUBO式\n",
    "2値クラスターでは, $+1$と$-1$のイジングモデルを用いたが, $N$クラスターでは$0,1$のQUBO関数を用いる. \n",
    "バイナリ変数$q_{i,l}$は$i$番目のデータが$l$番目のクラスターのとき$1$, それで無ければ$0$\n",
    "コスト関数は, 各クラスター毎に距離を計算すればよい.   \n",
    "異なるクラスター同士は考慮しなくてよい. \n",
    "\n",
    "$$\n",
    "Cost = \\sum_l^k\\sum_{ij}^n d_{ij} q_{i,l} q_{j,l}\\ \\ \\ \\ (q_i \\in \\{0, 1\\})\n",
    "$$\n",
    "\n",
    "制約として, データはただ$1$つのクラスターに属する条件\n",
    "$$\n",
    "Constraint = \\sum_i^n(\\sum_{l}^k q_{i,l} - 1)^2\n",
    "$$\n",
    "\n",
    "$0$番目のデータが4クラスターのどれに分類されるか調べるときに\n",
    "$$\n",
    "q_{0,0}+q_{0,1}+q_{0,2}+q_{0,3}\n",
    "$$\n",
    "のどれか1つが1になればよいので\n",
    "$$\n",
    "(q_{0,0}+q_{0,1}+q_{0,2}+q_{0,3}-1)^2\n",
    "$$\n",
    "を制約式とする. "
   ]
  },
  {
   "cell_type": "code",
   "execution_count": 4,
   "id": "f61168f7",
   "metadata": {},
   "outputs": [
    {
     "name": "stdout",
     "output_type": "stream",
     "text": [
      "Cost = 3087.519864936692\n",
      "Break = {}\n"
     ]
    },
    {
     "data": {
      "image/png": "[encoded data removed]",
      "text/plain": [
       "<Figure size 432x288 with 1 Axes>"
      ]
     },
     "metadata": {
      "needs_background": "light"
     },
     "output_type": "display_data"
    }
   ],
   "source": [
    "import numpy as np\n",
    "from matplotlib import pyplot as plt\n",
    "\n",
    "np.random.seed(0)\n",
    "\n",
    "n_node = 100\n",
    "n_cluster = 4\n",
    "\n",
    "#color = [np.random.randint(0,4) for _ in range(n_node)]\n",
    "\n",
    "x=np.array([1.46810698,3.3613398,2.80133699,-1.46591682,1.42513263,-0.22703581,-0.15482828,0.61589775,0.21606536,2.18141026,1.14155659,0.18251252,0.66579485,0.50051149,2.24111861,-0.3077374,0.46960155,-1.28114361,-3.82948472,0.98042789,1.2966543,-1.11324753,3.40463194,-2.18154851,0.06863778,36.67956794,34.31311637,35.6380901,34.95804322,37.21398475,35.97017015,34.45349853,33.98183392,34.46955822,33.88887879,33.98746725,34.80082362,35.92970159,37.68675269,35.25650066,32.41149297,35.24098781,33.71152202,34.69036859,35.7326397,33.74250355,35.57174562,33.51364508,36.52682007,35.51238109,19.51161368,22.51692798,23.10066013,20.01751247,20.61631396,19.92842159,20.24874185,21.08346801,20.26655733,20.43011633,21.38960198,18.47797704,19.62480779,20.82116385,20.33058408,17.78496684,21.01505665,20.16266612,21.72135848,20.13878698,20.6212986,22.55977018,20.96478071,21.13413343,20.10850894,10.97159387,9.96397541,12.19964247,14.32121179,11.65830712,11.95738955,14.02376208,10.63452087,13.30075348,12.14712535,7.31498147,8.44452693,11.63022961,10.55277639,11.39540328,12.09689889,11.34210563,7.95721413,12.4492856,10.7196173,10.29151275,13.90498381,13.21601063,10.87266484,11.64154486])\n",
    "y=np.array([37.71922422,37.18862555,36.01515895,37.83080162,39.36101891,39.22290486,38.34364692,36.46073183,38.7162882,39.93904734,36.90281265,35.59189662,39.48421426,38.16622192,37.42860288,38.17243876,38.51796896,35.39756185,40.48752666,41.44965729,37.29329711,39.89407323,36.24422683,39.5986838,36.95009392,11.12367068,14.38787613,11.64282076,15.7655373,15.28826086,10.83169663,13.56574092,12.89416416,13.90623956,13.7082235,14.22987594,14.36127943,12.12126569,14.40633826,12.61808786,14.46039807,13.31092416,14.64946296,14.40984547,13.9095835,13.00264126,11.51475979,15.80859112,12.63838961,13.08001736,2.84145481,1.84512589,3.80887379,1.98850101,3.04774584,2.04623088,4.01464994,3.86488622,2.68755187,3.59401007,1.36040774,0.76311361,3.65908755,3.25001024,3.95254716,6.57471716,4.41671923,1.63076666,4.67552443,1.02613888,2.30762309,2.89763759,5.57001408,1.88286777,1.76034219,27.54358061,28.14150143,25.77114421,25.14912361,26.2936312,25.35694167,27.56706517,29.57197334,28.37493631,28.07035669,26.45163544,28.60477852,26.97391112,29.89348328,24.99166511,27.50195441,27.5558494,24.67245887,27.72474568,28.58846208,28.36245221,28.15590387,26.75564322,28.73913909,28.13516919])\n",
    "\n",
    "# 散布図を描画\n",
    "#plt.scatter(x,y,c=color)\n",
    "\n",
    "N=100\n",
    "K=4\n",
    "#100*4量子ビット\n",
    "#q = Array.create('q', shape=N*K, vartype='BINARY')\n",
    "\n",
    "#距離\n",
    "def dist(i,j):\n",
    "    z=np.sqrt((x[i]-x[j])**2+(y[i]-y[j])**2)\n",
    "    return z\n",
    "    \n",
    "#式A\n",
    "HA=0\n",
    "for l in range(K):\n",
    " for i in range(N-1):\n",
    "  for j in range(i+1,N):\n",
    "     HA += dist(i,j)*q[l*N+i]*q[l*N+j]\n",
    "\n",
    "HB=0\n",
    "for i in range(N):\n",
    "    tmp=0\n",
    "    for l in range(K):\n",
    "        tmp += q[i+N*l]\n",
    "    HB += (tmp -1)**2\n",
    "\n",
    "#式をつなげる\n",
    "H = HA + 140*HB\n",
    "\n",
    "#data = sampleset.record[0][0] # 結果を1次元配列に保存\n",
    "data = sampleset.record[0][0]\n",
    "np.set_printoptions(threshold=np.inf)\n",
    "#print(data)\n",
    "\n",
    "data=np.array([1,1,1,1,1,1,1,1,1,1,1,1,1,1,1,1,1,1,1,1,1,1,1,1,1,0,0,0,0,0,0,0,0,0,0,0,0,0,0,0,0,0,0,0,0,0,0,0,0,0,0,0,0,0,0,0,0,0,0,0,0,0,0,0,0,0,0,0,0,0,0,0,0,0,0,0,0,0,0,0,0,0,0,0,0,0,0,0,0,0,0,0,0,0,0,0,0,0,0,0,0,0,0,0,0,0,0,0,0,0,0,0,0,0,0,0,0,0,0,0,0,0,0,0,0,0,0,0,0,0,0,0,0,0,0,0,0,0,0,0,0,0,0,0,0,0,0,0,0,0,1,1,1,1,1,1,1,1,1,1,1,1,1,1,1,1,1,1,1,1,1,1,1,1,1,0,0,0,0,0,0,0,0,0,0,0,0,0,0,0,0,0,0,0,0,0,0,0,0,0,0,0,0,0,0,0,0,0,0,0,0,0,0,0,0,0,0,0,0,0,0,0,0,0,0,0,0,0,0,0,0,0,0,0,0,0,0,0,0,0,0,0,0,0,0,0,0,0,0,0,0,0,0,0,0,0,0,0,0,0,0,0,0,0,0,0,0,0,0,0,0,0,0,0,0,1,1,1,1,1,1,1,1,1,1,1,1,1,1,1,1,1,1,1,1,1,1,1,1,1,0,0,0,0,0,0,0,0,0,0,0,0,0,0,0,0,0,0,0,0,0,0,0,0,0,1,1,1,1,1,1,1,1,1,1,1,1,1,1,1,1,1,1,1,1,1,1,1,1,1,0,0,0,0,0,0,0,0,0,0,0,0,0,0,0,0,0,0,0,0,0,0,0,0,0,0,0,0,0,0,0,0,0,0,0,0,0,0,0,0,0,0,0,0,0,0,0,0,0,0])\n",
    "\n",
    "cls = np.zeros(N)\n",
    "for l in range(K):\n",
    "    for i in range(N):\n",
    "        if data[i+N*l]==1:\n",
    "            cls[i]=l\n",
    "#print(data)\n",
    "#print(cls)\n",
    "for i in range(N):\n",
    "    if cls[i]==0:\n",
    "        plt.scatter(x[i], y[i],c=\"red\")\n",
    "    elif cls[i]==1:\n",
    "        plt.scatter(x[i], y[i],c=\"blue\")\n",
    "    elif cls[i]==2:\n",
    "        plt.scatter(x[i], y[i],c=\"yellow\")\n",
    "    else:\n",
    "        plt.scatter(x[i], y[i],c=\"green\")\n",
    "        "
   ]
  },
  {
   "cell_type": "markdown",
   "id": "c91bf25e",
   "metadata": {},
   "source": [
    "## vertex cover(頂点被覆問題)\n",
    "\n",
    "あるグラフ$G=(V,E)$について、すべての頂点とつながる最小の頂点集合$V'$を求める問題  \n"
   ]
  },
  {
   "cell_type": "markdown",
   "id": "bcb4ef0f",
   "metadata": {},
   "source": [
    "## QUBO式\n",
    "\n",
    "ノード$i$が集合$V'$含まれるときは$x_i=1$とする. \n",
    "QUBO最適化関数は、\n",
    "\n",
    "$$\n",
    "H = H _ A + H _ B\n",
    "$$\n",
    "\n",
    "\n",
    "ノード$v$とノード$u$が接続されているときに、2つのノード間のうちいずれか1つは1になる条件。(2つとも１になるのも含む)\n",
    "\n",
    "$$\n",
    "H_{A}=A\\sum_{u,v \\in E} (1-x_u) (1-x_v)\n",
    "$$\n",
    "\n",
    "$V'$の要素数を最小化する条件\n",
    "\n",
    "$$\n",
    "H_B = B \\sum_{v \\in V} x_v\n",
    "$$\n"
   ]
  },
  {
   "cell_type": "markdown",
   "id": "53f45970",
   "metadata": {},
   "source": [
    "## 例題\n",
    "$V={1,2,3,4,5}$  \n",
    "$E={(0,1),(0,3),(1,2),(2,3),(3,4)}$  \n",
    "のグラフ$G=(V,E)$\n",
    "について、最小被覆頂点集合$V'$をもとめる。"
   ]
  },
  {
   "cell_type": "code",
   "execution_count": 13,
   "id": "081c2962",
   "metadata": {},
   "outputs": [
    {
     "data": {
      "image/png": "[encoded data removed]",
      "text/plain": [
       "<Figure size 432x288 with 1 Axes>"
      ]
     },
     "metadata": {},
     "output_type": "display_data"
    }
   ],
   "source": [
    "import networkx as nx\n",
    "import matplotlib.pyplot as plt\n",
    "\n",
    "options = {'node_color': '#efefef','node_size': 1200,'with_labels':'True'}\n",
    "\n",
    "N = 5\n",
    "\n",
    "G = nx.Graph()\n",
    "G.add_nodes_from(nx.path_graph(N))\n",
    "G.add_edges_from([(0,1),(0,3),(1,2),(2,3),(3,4)])\n",
    "nx.draw(G, **options)\n",
    "#隣接行列\n",
    "A = np.array(nx.to_numpy_matrix(G))"
   ]
  },
  {
   "cell_type": "code",
   "execution_count": 12,
   "id": "55fa2b17",
   "metadata": {},
   "outputs": [
    {
     "name": "stdout",
     "output_type": "stream",
     "text": [
      "Sample = {'q[0]': 0, 'q[1]': 1, 'q[2]': 0, 'q[3]': 1, 'q[4]': 0}\n",
      "Cost = 2.0\n",
      "Break = {}\n"
     ]
    }
   ],
   "source": [
    "import numpy as np\n",
    "\n",
    "#量子ビット\n",
    "N=5 \n",
    "#q = Array.create('q', shape=N, vartype='BINARY')\n",
    "\n",
    "#集合V\n",
    "V=np.array([0,1, 2, 3, 4])\n",
    "\n",
    "#QUBO式\n",
    "HA = 0\n",
    "for v in range(N):\n",
    "    for u in range(N):\n",
    "        if A[u,v]==1:\n",
    "            HA += (1-q[u])*(1-q[v])\n",
    "    \n",
    "HB = 0\n",
    "for v in range(N):\n",
    "    HB+=q[v]\n",
    "\n",
    "#式をつなげる\n",
    "H = 2*HA + HB"
   ]
  },
  {
   "cell_type": "markdown",
   "id": "cbe42f2b",
   "metadata": {},
   "source": [
    "結果を確認すると、$S_0$と$S_1$を選択すると、全体集合の要素数をカバーできることが分かる。"
   ]
  }
 ],
 "metadata": {
  "kernelspec": {
   "display_name": "Python 3 (ipykernel)",
   "language": "python",
   "name": "python3"
  },
  "language_info": {
   "codemirror_mode": {
    "name": "ipython",
    "version": 3
   },
   "file_extension": ".py",
   "mimetype": "text/x-python",
   "name": "python",
   "nbconvert_exporter": "python",
   "pygments_lexer": "ipython3",
   "version": "3.10.9"
  }
 },
 "nbformat": 4,
 "nbformat_minor": 5
}
