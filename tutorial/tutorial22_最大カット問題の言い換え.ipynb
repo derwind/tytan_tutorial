{
  "nbformat": 4,
  "nbformat_minor": 0,
  "metadata": {
    "colab": {
      "provenance": [],
      "toc_visible": true
    },
    "kernelspec": {
      "name": "python3",
      "display_name": "Python 3"
    },
    "language_info": {
      "name": "python"
    }
  },
  "cells": [
    {
      "cell_type": "markdown",
      "source": [
        "## TYTANチュートリアル（最大カット問題の言い換え）\n",
        "\n",
        "2023年5月3日\n",
        "\n",
        "ビネクラ安田\n",
        "\n",
        "出典：[量子アニーリングにおける最大カット問題（Max cut問題）を易しく解説](https://vigne-cla.com/21-13/)"
      ],
      "metadata": {
        "id": "wD0xnOSEwDir"
      }
    },
    {
      "cell_type": "markdown",
      "source": [
        "### 問題\n",
        "QUBOでこの問題を解く。「できるだけ多くの線を切る」と説明されることが多いが、ちょっと分かりにくい。\n",
        "\n",
        "<div align=\"center\">\n",
        "<img src=\"https://vigne-cla.com/wp-content/uploads/2023/05/21-13_1-300x189.png\" width = 30%>\n",
        "</div>\n",
        "\n",
        "最適解の一つはこちら。\n",
        "\n",
        "<div align=\"center\">\n",
        "<img src=\"https://vigne-cla.com/wp-content/uploads/2023/05/21-13_2.png\" width = 30%>\n",
        "</div>\n",
        "\n",
        "でも、もう一箇所切れるんじゃね？とも思える。でもそれは不正解。なぜだろう？と混乱する。\n",
        "\n",
        "<div align=\"center\">\n",
        "<img src=\"https://vigne-cla.com/wp-content/uploads/2023/05/21-13_3.png\" width = 30%>\n",
        "</div>"
      ],
      "metadata": {
        "id": "NrPx2FvzyDYI"
      }
    },
    {
      "cell_type": "markdown",
      "source": [
        "### 問題の言い換え\n",
        "５人の幼稚園児を２台のバスに乗せます。友達関係をできるだけ壊すように振り分けるには、どのようにグループ分けしたら良いでしょうか？\n",
        "\n",
        "<div align=\"center\">\n",
        "<img src=\"https://vigne-cla.com/wp-content/uploads/2023/05/21-13_4l.png\" width = 35%>\n",
        "</div>"
      ],
      "metadata": {
        "id": "xkFiWzfdxLW7"
      }
    },
    {
      "cell_type": "markdown",
      "source": [
        "### QUBOモデルでは何が設定できるか？（おさらい）\n",
        "\n",
        "**<font color=\"red\">「n個の量子ビットからm個を1にする」</font>**\n",
        "\n",
        "例）3個の量子ビットから2個を1にする\n",
        "```\n",
        "H = (q1 + q2 + q3 - 2)**2\n",
        "```\n",
        "\n",
        "今回はこれだけを使うが、その他の条件式も気になる方は → [量子アニーリングのQUBOで設定可能な条件式まとめ（保存版）](https://vigne-cla.com/21-12/)"
      ],
      "metadata": {
        "id": "V8VJ0QJH0UNS"
      }
    },
    {
      "cell_type": "markdown",
      "source": [
        "### 制約条件\n",
        "\n",
        "５人の幼稚園児を５個の量子ビットに対応させる。\n",
        "\n",
        "次に、ある友達関係に着目したとき、彼らを違うバスに乗せたいということは、彼らの量子ビットを0, 1逆にしたいということで、さらに言い換えると**「2個の量子ビットから1個を1にしたい」**と同じ。これをすべての友達関係で設定する。\n",
        "\n",
        "<div align=\"center\">\n",
        "<img src=\"https://vigne-cla.com/wp-content/uploads/2023/05/21-13_5rl-768x327.png\" width = 60%>\n",
        "</div>\n",
        "\n",
        "（補足）今回は友達関係の強さに差がなく、どの線も同じ重み。「こっちを1本切ってあっちを1本残す」と「あっちを1本切ってこっちを1本残す」は同じエネルギーになるので、結果的に「できるだけ多くの本数を切る」が実現できる。もし友情に差があればそれに応じた係数をかける必要があり、「こっちを2本切ってあっちを1本残そう」といったことも起こり得る。\n"
      ],
      "metadata": {
        "id": "1gewbtcP20NU"
      }
    },
    {
      "cell_type": "markdown",
      "source": [
        "## コード"
      ],
      "metadata": {
        "id": "aRt4eclUEy3i"
      }
    },
    {
      "cell_type": "code",
      "source": [
        "!pip install git+https://github.com/tytansdk/tytan"
      ],
      "metadata": {
        "id": "RLVRSk--Ae4D"
      },
      "execution_count": null,
      "outputs": []
    },
    {
      "cell_type": "code",
      "source": [
        "from sympy import Symbol\n",
        "from tytan import qubo, sampler\n",
        "\n",
        "#量子ビットを用意する\n",
        "q0 = Symbol('q0')\n",
        "q1 = Symbol('q1')\n",
        "q2 = Symbol('q2')\n",
        "q3 = Symbol('q3')\n",
        "q4 = Symbol('q4')\n",
        "\n",
        "#友達関係において、違うバスに乗せたい（＝2個の量子ビットを0,1逆にしたい）（＝2個の量子ビットから1個を1にしたい）\n",
        "H = 0\n",
        "H += (q0 + q1 - 1)**2\n",
        "H += (q0 + q2 - 1)**2\n",
        "H += (q1 + q3 - 1)**2\n",
        "H += (q2 + q3 - 1)**2\n",
        "H += (q2 + q4 - 1)**2\n",
        "H += (q3 + q4 - 1)**2\n",
        "\n",
        "\n",
        "#コンパイル\n",
        "QUBO, offset = qubo.Compile(H).get_qubo()\n",
        "\n",
        "#サンプラー選択\n",
        "solver = sampler.SASampler()\n",
        "\n",
        "#サンプリング\n",
        "result = solver.run(QUBO, shots=500)\n",
        "\n",
        "#結果\n",
        "for r in result:\n",
        "    print(r)"
      ],
      "metadata": {
        "colab": {
          "base_uri": "https://localhost:8080/"
        },
        "id": "DyzHJ_niCiak",
        "outputId": "26a70d2f-212b-4648-d948-d7cac933a557"
      },
      "execution_count": 3,
      "outputs": [
        {
          "output_type": "stream",
          "name": "stdout",
          "text": [
            "[{'q0': 0.0, 'q1': 1.0, 'q2': 1.0, 'q3': 0.0, 'q4': 0.0}, -5.0, 104]\n",
            "[{'q0': 0.0, 'q1': 1.0, 'q2': 1.0, 'q3': 0.0, 'q4': 1.0}, -5.0, 142]\n",
            "[{'q0': 1.0, 'q1': 0.0, 'q2': 0.0, 'q3': 1.0, 'q4': 0.0}, -5.0, 148]\n",
            "[{'q0': 1.0, 'q1': 0.0, 'q2': 0.0, 'q3': 1.0, 'q4': 1.0}, -5.0, 106]\n"
          ]
        }
      ]
    },
    {
      "cell_type": "markdown",
      "source": [
        "4種類の最適解が得られるが実質2パターン。一方は冒頭の模範解答と一致していて、もう一方は別解。\n",
        "\n",
        "エネルギーが-5になったことについて。まずオフセットで-6されていて、各条件式は叶うと+0、叶わないと+1される。つまり、5式が叶って1式が叶わなかった（5本切れて1本残った）ことを意味する。"
      ],
      "metadata": {
        "id": "X9F4HMm5zy-P"
      }
    }
  ]
}