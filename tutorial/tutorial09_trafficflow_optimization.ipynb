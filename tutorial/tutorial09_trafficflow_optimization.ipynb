{
 "cells": [
  {
   "cell_type": "markdown",
   "id": "df647b57",
   "metadata": {},
   "source": [
    "## 組合せ最適化問題\n",
    "量子コンピュータで最適化問題を解くには、イジングモデルといわれる物理モデルを利用する。"
   ]
  },
  {
   "cell_type": "markdown",
   "id": "f6e338bb",
   "metadata": {},
   "source": [
    "## QUBO定式化\n",
    "QUBOは問題の答えが小さいほうが正解になるように設定された式です。式の形は、\n",
    "\n",
    "$$\n",
    "QUBO = -\\sum_i h_i q_i -\\sum_{i,j}J_{ij}q_iq_j\n",
    "$$\n",
    "\n",
    "となっている。iとjは点を表し、hはバイアス（局所磁場）、Jは相互作用と呼ばれます。この式ではqは量子ビットを表し0か1を取ります（イジングの場合は+1か-1）。\n",
    "私たちはhとJを問題として設定し、qの値を求めます。"
   ]
  },
  {
   "cell_type": "markdown",
   "id": "604397aa",
   "metadata": {},
   "source": [
    "## 問題設定の仕方\n",
    "問題の設定の仕方は、グラフ問題というものに問題を落とすことで計算できますが、いくつか問題を解くことでコツをつかめます。\n",
    "\n",
    "主に問題のコスト関数は二種類の式を考える必要があります。\n",
    "\n",
    "１．小さくしたいコスト関数  \n",
    "２．満たすべき条件（制約条件）\n",
    "\n",
    "この二つを別々に設計し、つなげることで実装できます。片方しかない式もあります。"
   ]
  },
  {
   "cell_type": "markdown",
   "id": "c58f0af2",
   "metadata": {},
   "source": [
    "## 使うツール\n",
    "\n",
    "networkx（ネットワークグラフを書く）  \n",
    "matplotlib（各種のグラフを書く）  \n",
    "numpy（数値ライブラリ）  "
   ]
  },
  {
   "cell_type": "code",
   "execution_count": null,
   "id": "a71a10e3",
   "metadata": {
    "scrolled": true,
    "tags": []
   },
   "outputs": [],
   "source": [
    "!pip install --quiet networkx matplotlib"
   ]
  },
  {
   "cell_type": "markdown",
   "id": "842353de",
   "metadata": {},
   "source": [
    "## 交通経路最適化問題\n",
    "交通渋滞の緩和のために, 経路が集中しないように車の経路を選択して, 渋滞が起きないように最適化する. \n",
    "\n"
   ]
  },
  {
   "cell_type": "code",
   "execution_count": 1,
   "id": "0672f168-d7dd-4846-a964-9037dcc6ce31",
   "metadata": {
    "tags": []
   },
   "outputs": [
    {
     "data": {
      "image/png": "[encoded data removed]",
      "text/plain": [
       "<Figure size 640x480 with 1 Axes>"
      ]
     },
     "metadata": {},
     "output_type": "display_data"
    }
   ],
   "source": [
    "import networkx as nx\n",
    "import matplotlib.pyplot as plt\n",
    "\n",
    "G = nx.Graph()\n",
    "G.add_nodes_from([i for i in range(9)])\n",
    "G.add_edges_from([(0,1),(1,2),(0,3),(1,4),(2,5),(3,4),(4,5),(3,6),(4,7),(5,8),(6,7),(7,8)])\n",
    "options = {'node_size': 1200,'with_labels':'True'}\n",
    "pos = nx.spring_layout(G, seed=7)\n",
    "nx.draw(G, pos, **options, node_color='#efefef')\n",
    "\n",
    "edge_labels={(0,1):'s0',(1,2):'s1',(0,3):'s2',(1,4):'s3',(2,5):'s4',(3,4):'s5',(4,5):'s6',(3,6):'s7',(4,7):'s8',(5,8):'s9',(6,7):'s10',(7,8):'s11'}\n",
    "nx.draw_networkx_edge_labels(G, pos, edge_labels=edge_labels)\n",
    "plt.show()"
   ]
  },
  {
   "cell_type": "markdown",
   "id": "cc9f64d2",
   "metadata": {},
   "source": [
    "### QUBO式\n",
    "$i$番目の車が$j$番目の経路を通るときに$1$をとるバイナリ変数を$q_{i,j}$\n",
    "とする. \n",
    "\n",
    "経路は道路をまとめた集合$S$とする. \n",
    "$$\n",
    "S=[s_0,s_1,s_2,s_3,s_4,s_5,s_6,s_7,s_8,s_9,s_{10},s_{11}]\n",
    "$$\n",
    "\n",
    "集合$S$を用いて経路を作成する. \n",
    "\n",
    "最小化したいQUBOコスト関数は,   \n",
    "\n",
    "$$\n",
    "\\begin{align*}\n",
    "QUBO&=\\sum_{s \\in S} (\\sum_{s \\in S_{i,j}} q_{i,j})^2 \\\\\n",
    "&= (\\sum_{s_0 \\in S_{i,j}} q_{i,j})^2 + (\\sum_{s_1 \\in S_{i,j}} q_{i,j})^2 + \\cdots + (\\sum_{s_{11} \\in S_{i,j}} q_{i,j})^2\n",
    "\\end{align*}\n",
    "$$\n",
    "\n",
    "$\\sum_{s \\in S_{i,j}} q_{i,j}$は車$i$が経路$j$を通過するときに道路$s$を通る経路について和をとります. \n",
    "\n",
    "\n",
    "道路$s$を通るすべての車の台数を表しており, $s$について和をとるQUBO式により, 道路$s$を通過する車の台数を最小化しています. \n",
    "\n",
    "\n",
    "たとえば, 以下の経路があるときに,  \n",
    "\n",
    "$経路1 : s_0,s_3,s_8,s_{11}$  \n",
    "$経路2 : s_2,s_7,s_{10},s_{11}$  \n",
    "$経路3 : s_0,s_1,s_4,s_9$  \n",
    "\n",
    "$s_0$が含まれるのは経路1と3なので, $s_0$のみのコスト関数は, \n",
    "$$\n",
    "(q_{1,1}+q_{2,1}+q_{1,3}+q_{2,3})^2\n",
    "$$\n",
    "\n",
    "これをすべての道路についての和を取ることで, 道路を被らないように経路選択できる. \n",
    "\n",
    "制約式は, 各車は一つの経路のみ通る事ができる条件. \n",
    "$$\n",
    "const=\\sum_i (\\sum_j q_{i,j} -1)^2\n",
    "$$"
   ]
  },
  {
   "cell_type": "markdown",
   "id": "23cda47c",
   "metadata": {},
   "source": [
    "### 問題設定\n",
    "\n",
    "地点0から地点8までを車が移動するときに, 経路がなるべく被らないように経路分散を計る. \n",
    "車は2台あり, それぞれ下の経路をとる可能性がある. \n",
    "\n",
    "経路1 : s0,s3,s8,s11  \n",
    "経路2 : s2,s7,s10,s11  \n",
    "経路3 : s0,s1,s4,s9  "
   ]
  },
  {
   "cell_type": "code",
   "execution_count": 2,
   "id": "3a3bd51a",
   "metadata": {},
   "outputs": [
    {
     "name": "stdout",
     "output_type": "stream",
     "text": [
      "[[0 0 1]\n",
      " [0 1 0]] 8\n",
      "[[0 1 0]\n",
      " [0 0 1]] 8\n",
      "[[0 0 1]\n",
      " [1 0 0]] 10\n",
      "[[0 1 0]\n",
      " [1 0 0]] 10\n",
      "[[1 0 0]\n",
      " [0 0 1]] 10\n",
      "[[1 0 0]\n",
      " [0 1 0]] 10\n"
     ]
    }
   ],
   "source": [
    "import numpy as np\n",
    "from tytan import symbols_list, Auto_array, Compile, sampler\n",
    "\n",
    "N=2\n",
    "W=3\n",
    "#q = Array.create('q', shape=(N,W), vartype='BINARY')\n",
    "q = symbols_list((N, W))\n",
    "\n",
    "#通過地点\n",
    "s=np.array([[0,3,8,11],[2,7,10,11],[0,1,4,9]])\n",
    "\n",
    "S=12#道路数\n",
    "\n",
    "\n",
    "#式A\n",
    "HA=0\n",
    "for k in range(S):#道路\n",
    "  tmp=0\n",
    "  for j in range(W):#経路\n",
    "    for i in range(N):#車\n",
    "      for l in range(4):\n",
    "        if s[j,l]==k:\n",
    "          tmp += q[i,j]\n",
    "  HA += tmp**2\n",
    "\n",
    "\n",
    "#式C\n",
    "HC=0\n",
    "for i in range(N):#車\n",
    "  tmp=0\n",
    "  for j in range(W):#経路\n",
    "    tmp+=q[i,j]\n",
    "  HC += (tmp-1)**2\n",
    "\n",
    "\n",
    "#式をつなげる\n",
    "H = HA + 10*HC\n",
    "\n",
    "Q, offset = Compile(H).get_qubo()\n",
    "\n",
    "solver = sampler.SASampler()\n",
    "result = solver.run(Q)\n",
    "for r in result:\n",
    "    arr, subs = Auto_array(r[0]).get_ndarray('q{}_{}')\n",
    "    print(arr, int(r[1] + offset))"
   ]
  }
 ],
 "metadata": {
  "kernelspec": {
   "display_name": "Python 3 (ipykernel)",
   "language": "python",
   "name": "python3"
  },
  "language_info": {
   "codemirror_mode": {
    "name": "ipython",
    "version": 3
   },
   "file_extension": ".py",
   "mimetype": "text/x-python",
   "name": "python",
   "nbconvert_exporter": "python",
   "pygments_lexer": "ipython3",
   "version": "3.10.9"
  }
 },
 "nbformat": 4,
 "nbformat_minor": 5
}
