{
 "cells": [
  {
   "cell_type": "markdown",
   "id": "c86013cf",
   "metadata": {},
   "source": [
    "## グラフ分割問題とグラフカラーリング問題  \n",
    "あるグラフ$G=(E,V)$が与えられたときに、そのグラフを2つのグループに分割する問題であるグラフ分割問題と、グラフを複数のグラフに分割するグラフカラーリング問題についてのチュートリアルを説明します。"
   ]
  },
  {
   "cell_type": "markdown",
   "id": "0fa09fe8",
   "metadata": {},
   "source": [
    "### グラフ分割問題\n",
    "頂点と辺からなるグラフを二つのグループの頂点の数がなるべく同じになるように分け、異なるグループ同士の頂点を結ぶ辺の数を最小にする。"
   ]
  },
  {
   "cell_type": "markdown",
   "id": "9e841be1",
   "metadata": {},
   "source": [
    "### イジング式\n",
    "グラフを2つに分割するために、最適化したい変数は、+1と-1にするとコスト関数がシンプルになります。  \n",
    "今回の問題では、グラフの頂点に+1と-1の変数を割り当てて、その和が0に近づくときに、よりよく2分割できたといえるので、  \n",
    "この和を、コスト$H_A$とします。  \n",
    "  \n",
    "  \n",
    "次に、問題では異なるグループ同士の頂点を結ぶ点の個数も最小化したいので、このコストを$H_B$としています。\n",
    "\n",
    "\n",
    "コスト$H_A$はグラフの頂点の個数$N$だけある、+1と-1をとる変数$z_i$を用意して、その和をとります。\n",
    "\n",
    "$$\n",
    "H_A = (\\sum^N_{i=1} z_i)^2\n",
    "$$\n",
    "\n",
    "\n",
    "コスト$H_B$はグラフの頂点同士$i,j$が接続されているときに$\\frac{1 - z_i z_j}{2}$の和を取ります。\n",
    "$$\n",
    "H_B = \\sum_{i,j \\in E} \\frac{1 - z_i z_j}{2}\n",
    "$$\n",
    "\n",
    "$\\frac{1 - z_i z_j}{2}$を見てみましょう。  \n",
    "グラフの頂点$i,j$が接続されているときに、$i,j$は異なるグループだとしましょう。  \n",
    "これは$z_i=+1,z_j=-1$とかけるので、  \n",
    "$\\frac{1 - z_i z_j}{2}=1$となります。  \n",
    "これがもし、同じグループだとしたら、これは$z_i=-1,z_j=-1$とかけるので、  \n",
    "$\\frac{1 - z_i z_j}{2}=0$となります。    \n",
    "つまり、このコスト$H_B$は異なるグループ同士が辺で結ばれているときに+1となるコスト関数となっており、  \n",
    "その和をとることで、異なるグループ同士の頂点を結ぶ辺の数を最小にしています。  "
   ]
  },
  {
   "cell_type": "markdown",
   "id": "fd2158dc",
   "metadata": {},
   "source": [
    "### イジング式からQUBO式に変更する\n",
    "\n",
    "TYTAN SDKは、最適化変数として、0と１のQUBO変数を採用しています。  \n",
    "+1と-1の変数を0と１に変換するためには、\n",
    "$$\n",
    "q_i = \\frac{1-z_i}2\n",
    "$$\n",
    "\n",
    "$$\n",
    "z_i = 1-2q_i\n",
    "$$\n",
    "\n",
    "の変数変換を行います。\n",
    "これにより、先ほど説明した$H_A$と$H_B$のコストは下記に変更されます。\n",
    "\n",
    "$$\n",
    "H_A = (\\sum^N_{i=1} z_i)^2  \\\\\n",
    "=(\\sum^N_{i=1} 1-2q_i)^2\n",
    "$$\n",
    "\n",
    "$$\n",
    "H_B = \\sum_{i,j \\in E} \\frac{1 - z_i z_j}{2} \\\\\n",
    "=\\sum_{i,j \\in E} \\frac{1 - (1-2q_i)(1-2q_j)}{2} \\\\\n",
    "=\\sum_{i,j \\in E} (-2q_i q_j +q_i +q_j)\n",
    "$$"
   ]
  },
  {
   "cell_type": "markdown",
   "id": "3dff4899",
   "metadata": {},
   "source": [
    "### 練習問題\n",
    "4点からなる下記グラフでグラフ分割問題を解きます。"
   ]
  },
  {
   "cell_type": "code",
   "execution_count": null,
   "id": "3370fe04",
   "metadata": {},
   "outputs": [],
   "source": [
    "# TYTAN SDKのインストール\n",
    "!pip install -q git+https://github.com/tytansdk/tytan.git"
   ]
  },
  {
   "cell_type": "code",
   "execution_count": null,
   "id": "a6e403ac",
   "metadata": {},
   "outputs": [],
   "source": [
    "# グラフ表示用変数のインストール\n",
    "!pip install --quiet networkx matplotlib"
   ]
  },
  {
   "cell_type": "code",
   "execution_count": 1,
   "id": "d4f4e973",
   "metadata": {
    "scrolled": true,
    "tags": []
   },
   "outputs": [
    {
     "data": {
      "image/png": "[encoded data removed]",
      "text/plain": [
       "<Figure size 640x480 with 1 Axes>"
      ]
     },
     "metadata": {},
     "output_type": "display_data"
    }
   ],
   "source": [
    "import networkx as nx\n",
    "import matplotlib.pyplot as plt\n",
    "\n",
    "options = {'node_color': '#efefef','node_size': 1200,'with_labels':'True'}\n",
    "\n",
    "N = 4\n",
    "\n",
    "G = nx.Graph()\n",
    "G.add_nodes_from(nx.path_graph(N))\n",
    "G.add_edges_from([(0,1), (0,2), (0,3),(1,2),(2,3)])\n",
    "nx.draw(G, pos=nx.spring_layout(G, seed=1234), **options)"
   ]
  },
  {
   "cell_type": "markdown",
   "id": "6106fa34",
   "metadata": {},
   "source": [
    "グラフの頂点と辺の接続を隣接行列として書き出して、TYTAN SDKに渡します。"
   ]
  },
  {
   "cell_type": "code",
   "execution_count": 2,
   "id": "79718232",
   "metadata": {
    "scrolled": true,
    "tags": []
   },
   "outputs": [
    {
     "name": "stdout",
     "output_type": "stream",
     "text": [
      "[[0. 1. 1. 1.]\n",
      " [0. 0. 1. 0.]\n",
      " [0. 0. 0. 1.]\n",
      " [0. 0. 0. 0.]]\n"
     ]
    }
   ],
   "source": [
    "import numpy as np\n",
    "\n",
    "#隣接行列\n",
    "A = np.triu(nx.to_numpy_array(G))\n",
    "print(A)"
   ]
  },
  {
   "cell_type": "code",
   "execution_count": 3,
   "id": "5f2c9a26-1cd2-4bf1-9558-d41085bd4a1d",
   "metadata": {},
   "outputs": [],
   "source": [
    "from tytan import symbols, Compile, sampler\n",
    "\n",
    "# 変数を定義 q_0, q_1, q_2, q_3\n",
    "q = symbols(f\"q_{{0:{N}}}\")"
   ]
  },
  {
   "cell_type": "markdown",
   "id": "7d3bd935",
   "metadata": {},
   "source": [
    "コスト関数を作成します。"
   ]
  },
  {
   "cell_type": "code",
   "execution_count": 4,
   "id": "5023b981",
   "metadata": {},
   "outputs": [
    {
     "name": "stdout",
     "output_type": "stream",
     "text": [
      "[[{'q_{0}': 0, 'q_{1}': 0, 'q_{2}': 1, 'q_{3}': 1}, -1597.0, 24], [{'q_{0}': 0, 'q_{1}': 1, 'q_{2}': 1, 'q_{3}': 0}, -1597.0, 27], [{'q_{0}': 1, 'q_{1}': 0, 'q_{2}': 0, 'q_{3}': 1}, -1597.0, 25], [{'q_{0}': 1, 'q_{1}': 1, 'q_{2}': 0, 'q_{3}': 0}, -1597.0, 24]]\n"
     ]
    }
   ],
   "source": [
    "#式A\n",
    "HA = sum([(1-2*q[i]) for i in range(N)])\n",
    "\n",
    "#式B\n",
    "HB = 0.0\n",
    "for i in range(N):\n",
    "    for j in range(i+1,N):\n",
    "        if(A[i,j] == 1):\n",
    "            HB += (-2*q[i]*q[j]+q[i]+q[j])\n",
    "\n",
    "#式をつなげます。調整変数を100にしています。\n",
    "M = 100\n",
    "H = M*HA**2 + HB\n",
    "\n",
    "# Compileクラスを使用して、QUBOを取得\n",
    "Q, offset = Compile(H).get_qubo()\n",
    "\n",
    "# サンプラーを選択\n",
    "solver = sampler.SASampler()\n",
    "\n",
    "#クラウドサンプラーの場合\n",
    "#API_KEY = \"API key\"\n",
    "#solver = sampler.NQSSampler()\n",
    "#result = solver.run(Q, api_key=API_KEY)\n",
    "\n",
    "# 計算\n",
    "result = solver.run(Q, shots=100)\n",
    "print(result)"
   ]
  },
  {
   "cell_type": "markdown",
   "id": "5a59a18b",
   "metadata": {},
   "source": [
    "4つの頂点が2つのグループに分かれました。異なるグループの間を結ぶ辺の数は最小で3となっています。答えが1010の場合にはコストが上がっており、辺の数は4となるので、最適ではなくなることから確認できます。以上です。"
   ]
  },
  {
   "cell_type": "markdown",
   "id": "8a7c5981",
   "metadata": {},
   "source": [
    "## グラフカラーリング\n",
    "グラフ分割問題を拡張して、あるn頂点と辺からなるグラフにおいて、  \n",
    "グラフをm個の種類に分割する問題を見ていきます。  \n",
    "この問題は、グラフをm個に分割するときにグラフの頂点をmに色分けすると考えることもできるために、  \n",
    "グラフカラーリング問題とも呼ばれています。"
   ]
  },
  {
   "cell_type": "markdown",
   "id": "4d52a656",
   "metadata": {},
   "source": [
    "### QUBO式の作成\n",
    "一つの頂点につきm色を割り当てる制約条件と、隣接する色同士が選ばれないようにペナルティを課す条件を結合します。  \n",
    "最適化する変数は、グラフの頂点$v$を色$m$で塗分けるときに、$q_{v,m}=1$となり、そうでない場合は0をとる変数です。  \n",
    "必要な量子ビット数はm色はn頂点で$m*n$となります。  \n",
    "\n",
    "一つの頂点に対して、色がただ1つ選ばれる制約式$H_A$\n",
    "$$\n",
    "H_A = \\sum_{v} (1 - \\sum_{i=1}^{m}q_{v,i})^2\n",
    "$$\n",
    "\n",
    "異なる色同士の頂点を結ぶ辺の数を最小にするコスト関数$H_B$\n",
    "$$\n",
    "H_B = \\sum_{(uv) \\in E} \\sum_{i=1}^{m} q_{u,i}*q_{v,i}\n",
    "$$"
   ]
  },
  {
   "cell_type": "code",
   "execution_count": 5,
   "id": "49958da4",
   "metadata": {
    "tags": []
   },
   "outputs": [
    {
     "data": {
      "image/png": "[encoded data removed]",
      "text/plain": [
       "<Figure size 640x480 with 1 Axes>"
      ]
     },
     "metadata": {},
     "output_type": "display_data"
    }
   ],
   "source": [
    "import networkx as nx\n",
    "import matplotlib.pyplot as plt\n",
    "\n",
    "options = {'node_color': '#efefef','node_size': 1200,'with_labels':'True'}\n",
    "\n",
    "n = 4 #頂点数\n",
    "m = 3 #塗分ける色の数\n",
    "\n",
    "G = nx.Graph()\n",
    "G.add_nodes_from(nx.path_graph(n))\n",
    "G.add_edges_from([(0,1), (0,2), (0,3),(1,2)])\n",
    "nx.draw(G, pos=nx.spring_layout(G, seed=1234), **options)"
   ]
  },
  {
   "cell_type": "code",
   "execution_count": 6,
   "id": "bcf6c51a",
   "metadata": {
    "tags": []
   },
   "outputs": [],
   "source": [
    "from tytan import symbols, Compile, sampler\n",
    "\n",
    "#今回は12量子ビット\n",
    "N = n*m\n",
    "q = symbols(\"q_{0:12}\")\n",
    "\n",
    "#隣接行列\n",
    "A = np.triu(nx.to_numpy_array(G))\n",
    "\n",
    "#色の通し番号を格納\n",
    "b = np.zeros((n,m))\n",
    "\n",
    "#後で利用するノードの色を表示するための辞書\n",
    "my_dict = {}\n",
    "\n",
    "#色を格納\n",
    "num = 0\n",
    "for v in range(n):\n",
    "    for i in range(m):\n",
    "        b[v][i] = num\n",
    "        my_dict[num] = [str(v),i]\n",
    "        num += 1\n",
    "\n",
    "#色を選択するQUBO\n",
    "h_1= 0.0\n",
    "const_h = 0.0\n",
    "for v in range (n):\n",
    "    for i in range(m):\n",
    "        const_h += q[int(b[v,i])]\n",
    "        \n",
    "    h_1 += (1 - const_h)**2\n",
    "    const_h = 0.0\n",
    "\n",
    "#隣接するノードで同じ色が選択されないQUBO\n",
    "h_2 = 0.0    \n",
    "for u in range(n):\n",
    "    for v in range(n):\n",
    "        for i in range(m):\n",
    "            if(A[u,v]==1):\n",
    "                h_2 += q[int(b[u,i])]*q[int(b[v,i])]\n",
    "\n",
    "#QUBOを統合\n",
    "H = h_1 + h_2"
   ]
  },
  {
   "cell_type": "code",
   "execution_count": 7,
   "id": "128aa504-3f08-4c59-88cc-fc7471162049",
   "metadata": {
    "tags": []
   },
   "outputs": [
    {
     "name": "stdout",
     "output_type": "stream",
     "text": [
      "Sample = {'q_{0}': 0, 'q_{10}': 0, 'q_{11}': 0, 'q_{1}': 0, 'q_{2}': 1, 'q_{3}': 0, 'q_{4}': 1, 'q_{5}': 0, 'q_{6}': 1, 'q_{7}': 0, 'q_{8}': 0, 'q_{9}': 1}\n",
      "Cost = 0\n"
     ]
    }
   ],
   "source": [
    "# Compileクラスを使用して、QUBOを取得\n",
    "Q, offset = Compile(H).get_qubo()\n",
    "\n",
    "# サンプラーを選択\n",
    "solver = sampler.SASampler()\n",
    "\n",
    "#クラウドサンプラーの場合\n",
    "#API_KEY = \"API key\"\n",
    "#solver = sampler.NQSSampler()\n",
    "#result = solver.run(Q, api_key=API_KEY)\n",
    "\n",
    "# 計算\n",
    "result = solver.run(Q, shots=100)\n",
    "#print(result)\n",
    "\n",
    "print(\"Sample =\", result[0][0])\n",
    "print(\"Cost =\", result[0][1] + offset)"
   ]
  },
  {
   "cell_type": "code",
   "execution_count": 8,
   "id": "0e6d9b4a-e22a-4470-9878-47fed994b7b7",
   "metadata": {
    "tags": []
   },
   "outputs": [
    {
     "name": "stdout",
     "output_type": "stream",
     "text": [
      "['0', 2]\n",
      "['1', 1]\n",
      "['2', 0]\n",
      "['3', 0]\n"
     ]
    }
   ],
   "source": [
    "values_list = [0,0,1,0,1,0,1,0,0,1,0,0]\n",
    "\n",
    "for i in range(N):\n",
    "    if(values_list[i]==1):\n",
    "        print(my_dict[i])"
   ]
  }
 ],
 "metadata": {
  "kernelspec": {
   "display_name": "Python 3 (ipykernel)",
   "language": "python",
   "name": "python3"
  },
  "language_info": {
   "codemirror_mode": {
    "name": "ipython",
    "version": 3
   },
   "file_extension": ".py",
   "mimetype": "text/x-python",
   "name": "python",
   "nbconvert_exporter": "python",
   "pygments_lexer": "ipython3",
   "version": "3.10.9"
  }
 },
 "nbformat": 4,
 "nbformat_minor": 5
}
