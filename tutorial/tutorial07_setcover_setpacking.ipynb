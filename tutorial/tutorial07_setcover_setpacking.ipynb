{
 "cells": [
  {
   "cell_type": "markdown",
   "id": "4e458f57",
   "metadata": {},
   "source": [
    "## 組合せ最適化問題\n",
    "量子コンピュータで最適化問題を解くには、イジングモデルといわれる物理モデルを利用する。"
   ]
  },
  {
   "cell_type": "markdown",
   "id": "22d56ee1",
   "metadata": {},
   "source": [
    "## QUBO定式化\n",
    "QUBOは問題の答えが小さいほうが正解になるように設定された式です。式の形は、\n",
    "\n",
    "$$\n",
    "QUBO = -\\sum_i h_i q_i -\\sum_{i,j}J_{ij}q_iq_j\n",
    "$$\n",
    "\n",
    "となっている。iとjは点を表し、hはバイアス（局所磁場）、Jは相互作用と呼ばれます。この式ではqは量子ビットを表し0か1を取ります（イジングの場合は+1か-1）。\n",
    "私たちはhとJを問題として設定し、qの値を求めます。"
   ]
  },
  {
   "cell_type": "markdown",
   "id": "a3fb7f40",
   "metadata": {},
   "source": [
    "## 問題設定の仕方\n",
    "問題の設定の仕方は、グラフ問題というものに問題を落とすことで計算できますが、いくつか問題を解くことでコツをつかめます。\n",
    "\n",
    "主に問題のコスト関数は二種類の式を考える必要があります。\n",
    "\n",
    "１．小さくしたいコスト関数  \n",
    "２．満たすべき条件（制約条件）\n",
    "\n",
    "この二つを別々に設計し、つなげることで実装できます。片方しかない式もあります。"
   ]
  },
  {
   "cell_type": "code",
   "execution_count": 1,
   "id": "126af32f",
   "metadata": {
    "scrolled": true,
    "tags": []
   },
   "outputs": [],
   "source": [
    "!pip install --quiet matplotlib"
   ]
  },
  {
   "cell_type": "markdown",
   "id": "d9e22808",
   "metadata": {},
   "source": [
    "## set cover(集合被覆問題)\n",
    "\n",
    "全体集合$U=\\{e_1,e_2,e_3,e_4\\}$の部分集合$S= \\{S_1,S_2,S_3,S_4 \\}$\n",
    "のうち、全体集合Uの要素をすべてカバーする部分集合のうち最小のものを求める。\n"
   ]
  },
  {
   "cell_type": "markdown",
   "id": "f1dd786a",
   "metadata": {},
   "source": [
    "## QUBO式\n",
    "\n",
    "問題をバイナリ変数で表す。  \n",
    "バイナリ変数$y_i$は, 部分集合$S_i$を選択する場合は1、それ以外は0になる変数  \n",
    "バイナリ変数$x_{a,m}$は、選択した部分集合全体にわたって、要素$a$がトータルで$m$個のときは1、そうでない場合は0とする。\n",
    "\n",
    "QUBO最適化関数は、\n",
    "\n",
    "$$H = H _ A + H _ B$$\n",
    "$$\n",
    "H_{A}=A\\sum_{a \\in U} (1-\\sum_{m=1}^N x_{a,m})^2 + A\\sum_{a \\in U} (\\sum_{m=1}^N mx_{a,m}-\\sum_{i:a \\in S_i}y_{i})^2\n",
    "$$\n",
    "$$H_B = B \\sum_{i=1}^{N}y_i$$\n",
    "\n",
    "- $n$は部分集合の個数  \n",
    "- $N$は要素の数\n",
    "\n",
    "### QUBO式の解説\n",
    "\n",
    "$$\n",
    "A\\sum_{a \\in U} (1-\\sum_{m=1}^N x_{a,m})^2\n",
    "$$\n",
    "\n",
    "要素数$m$が各要素$a$に対して、ただ1つのみ$x_{a,m}=1$になる条件 ($a$は 1 or 2 or ... or N個、言い換えると $a$の個数 > 0)\n",
    "\n",
    "$$\n",
    "A\\sum_{a \\in U} (\\sum_{m=1}^N mx_{a,m}-\\sum_{i:a \\in S_i}y_{i})^2\n",
    "$$\n",
    "選択した集合全体での各要素$a$の数が$m$個になる条件\n",
    "\n",
    "$$\n",
    "B \\sum_{i=1}^{N}y_i\n",
    "$$\n",
    "\n",
    "選択する集合$S_i$らを最小化する条件"
   ]
  },
  {
   "cell_type": "markdown",
   "id": "192a9688",
   "metadata": {},
   "source": [
    "## 例題\n",
    "\n",
    "全体集合$U= \\{1,2,3,4 \\}$  \n",
    "部分集合  \n",
    "$S_0=\\{1,2\\}$  \n",
    "$S_1=\\{2,3\\}$  \n",
    "$S_2=\\{3,4\\}$  \n",
    "\n",
    "集合$U$の要素をすべてカバーする、最小の部分集合$S_i$の組み合わせを選ぶ"
   ]
  },
  {
   "cell_type": "code",
   "execution_count": 1,
   "id": "f062333e",
   "metadata": {},
   "outputs": [
    {
     "name": "stdout",
     "output_type": "stream",
     "text": [
      "[{'q_{0}': 1, 'q_{10}': 0, 'q_{11}': 0, 'q_{12}': 1, 'q_{13}': 0, 'q_{14}': 1, 'q_{1}': 0, 'q_{2}': 0, 'q_{3}': 1, 'q_{4}': 0, 'q_{5}': 0, 'q_{6}': 1, 'q_{7}': 0, 'q_{8}': 0, 'q_{9}': 1}, -2.0, 45]\n",
      "S_i: [1, 0, 1]\n"
     ]
    }
   ],
   "source": [
    "import numpy as np\n",
    "from tytan import symbols, Compile, sampler\n",
    "\n",
    "#量子ビット\n",
    "N=3 #部分集合の数\n",
    "M=4 #Uの要素数\n",
    "\n",
    "#q = Array.create('q', shape=N*M+N, vartype='BINARY')\n",
    "q = symbols(\"q_{0:\"+str(N*M+N)+\"}\")\n",
    "\n",
    "#集合U\n",
    "U=np.array([1, 2, 3, 4])\n",
    "\n",
    "#部分集合\n",
    "S=np.array([[1, 2], #S0\n",
    "           [2, 3],  #S1\n",
    "           [3, 4]]) #S2\n",
    "\n",
    "\n",
    "#QUBO式\n",
    "HA = 0\n",
    "for a in range(M): #要素数\n",
    "    tmp=0\n",
    "    for m in range(N):\n",
    "        tmp += q[N*a+m]\n",
    "    HA+=(1-tmp)**2\n",
    "    \n",
    "HB = 0\n",
    "for a in range(M):\n",
    "    tmp = 0\n",
    "    for m in range(N):\n",
    "        tmp += (m+1)*q[N*a+m]\n",
    "    \n",
    "    for i in range(N):\n",
    "        for j in range(len(S[i])):\n",
    "            if S[i,j]==U[a]:\n",
    "                tmp += -q[N*M+i]\n",
    "    HB+=tmp**2\n",
    "        \n",
    "HC =0\n",
    "for i in range(N):\n",
    "    HC += q[N*M+i]\n",
    "\n",
    "\n",
    "#式をつなげる\n",
    "H = HA + HB + HC\n",
    "\n",
    "Q, offset = Compile(H).get_qubo()\n",
    "\n",
    "solver = sampler.SASampler()\n",
    "result = solver.run(Q)\n",
    "print(result[0])\n",
    "print(\"S_i:\", [result[0][0][\"q_{\"+str(N*M+i)+\"}\"] for i in range(N)])"
   ]
  },
  {
   "cell_type": "markdown",
   "id": "c2afbcaf",
   "metadata": {},
   "source": [
    "結果を確認すると、$S_0$と$S_2$を選択すると、全体集合の要素数をカバーできることが分かる。"
   ]
  },
  {
   "cell_type": "markdown",
   "id": "e61de0bd",
   "metadata": {},
   "source": [
    "## set packing(集合パッキング問題)\n",
    "\n",
    "全体集合$U=\\{e_1,e_2,e_3,e_4\\}$の部分集合$S= \\{S_1,S_2,S_3,S_4 \\}$\n",
    "のうち、共通の要素を持たない部分集合のうち最大のものを求める。  \n"
   ]
  },
  {
   "cell_type": "markdown",
   "id": "f0488c27",
   "metadata": {},
   "source": [
    "### QUBO式\n",
    "\n",
    "$$\n",
    "\\large\n",
    "H_A = A\\sum_{i,j:S_i \\cap S_j \\neq \\emptyset} x_ix_j \n",
    "$$\n",
    "\n",
    "$$\n",
    "H_B= -B \\sum_i x_i\n",
    "$$"
   ]
  },
  {
   "cell_type": "markdown",
   "id": "90d6bc9d",
   "metadata": {},
   "source": [
    "## 問題設定\n",
    "\n"
   ]
  },
  {
   "cell_type": "code",
   "execution_count": 2,
   "id": "fc535dd9",
   "metadata": {},
   "outputs": [
    {
     "name": "stdout",
     "output_type": "stream",
     "text": [
      "[{'q_{0}': 1, 'q_{1}': 0, 'q_{2}': 1}, -2.0, 86]\n"
     ]
    }
   ],
   "source": [
    "import numpy as np\n",
    "\n",
    "#量子ビット\n",
    "N=3 #部分集合の数\n",
    "\n",
    "#q = Array.create('q', shape=N, vartype='BINARY')\n",
    "q = symbols(\"q_{0:\"+str(N)+\"}\")\n",
    "\n",
    "#集合U\n",
    "U=np.array([1, 2, 3, 4])\n",
    "\n",
    "#部分集合\n",
    "S=np.array([[1, 2],  #S0\n",
    "            [2, 3],  #S1\n",
    "            [3, 4]]) #S2\n",
    "\n",
    "#QUBO式\n",
    "HA = 0\n",
    "for i in range(N):\n",
    "    for j in range(N):\n",
    "        c =np.intersect1d(S[i], S[j]) #共通要素\n",
    "        if i!=j and c.size != 0:\n",
    "            HA += q[i]*q[j] \n",
    "    \n",
    "HB = 0\n",
    "for i in range(N):\n",
    "    HB += -q[i]\n",
    "\n",
    "\n",
    "#式をつなげる\n",
    "H = HA + HB\n",
    "\n",
    "Q, offset = Compile(H).get_qubo()\n",
    "\n",
    "solver = sampler.SASampler()\n",
    "result = solver.run(Q)\n",
    "print(result[0])"
   ]
  },
  {
   "cell_type": "markdown",
   "id": "9ed32338",
   "metadata": {},
   "source": [
    "$S_0, S_2$を選択する、先ほどと同じ解が得られました。"
   ]
  },
  {
   "cell_type": "markdown",
   "id": "6d932e8f",
   "metadata": {},
   "source": [
    "### 問題2\n",
    "\n",
    "全体集合$U= \\{1,2,3,4,5,6,7,8,9 \\}$  \n",
    "部分集合  \n",
    "$S_0=\\{1,2,3,6,9 \\}$  \n",
    "$S_1=\\{1,2,5,8 \\}$  \n",
    "$S_2=\\{4,7 \\}$  \n",
    "$S_3=\\{4,5 \\}$  \n",
    "$S_4=\\{6,9 \\}$  "
   ]
  },
  {
   "cell_type": "code",
   "execution_count": 111,
   "id": "f64f4157",
   "metadata": {},
   "outputs": [
    {
     "name": "stdout",
     "output_type": "stream",
     "text": [
      "Sample = {'q[0]': 0, 'q[1]': 1, 'q[2]': 1, 'q[3]': 0, 'q[4]': 1}\n",
      "Cost = -3.0\n",
      "Break = {}\n"
     ]
    },
    {
     "name": "stderr",
     "output_type": "stream",
     "text": [
      "C:\\Users\\005087\\AppData\\Local\\Temp\\ipykernel_1748\\4142535172.py:14: VisibleDeprecationWarning: Creating an ndarray from ragged nested sequences (which is a list-or-tuple of lists-or-tuples-or ndarrays with different lengths or shapes) is deprecated. If you meant to do this, you must specify 'dtype=object' when creating the ndarray.\n",
      "  S=np.array([[1,2,3,6,9],[1,2,5,8],[4,7],[4,5],[6,9]])\n"
     ]
    }
   ],
   "source": [
    "import numpy as np\n",
    "\n",
    "#量子ビット\n",
    "N=5 #部分集合の数\n",
    "\n",
    "#q = Array.create('q', shape=N, vartype='BINARY')\n",
    "\n",
    "#集合U\n",
    "U=np.array([1, 2, 3, 4, 5, 6, 7, 8, 9])\n",
    "\n",
    "#部分集合\n",
    "S=np.array([[1,2,3,6,9],[1,2,5,8],[4,7],[4,5],[6,9]])\n",
    "\n",
    "#QUBO式\n",
    "HA = 0\n",
    "for i in range(N):\n",
    "    for j in range(N):\n",
    "        c =np.intersect1d(S[i], S[j]) #共通要素\n",
    "        if i!=j and c.size != 0:\n",
    "            HA += q[i]*q[j] \n",
    "    \n",
    "HB = 0\n",
    "for i in range(N):\n",
    "    HB += -q[i]\n",
    "\n",
    "\n",
    "#式をつなげる\n",
    "H = HA + HB"
   ]
  },
  {
   "cell_type": "code",
   "execution_count": 2,
   "id": "3558cc76",
   "metadata": {},
   "outputs": [
    {
     "name": "stdout",
     "output_type": "stream",
     "text": [
      "Sample = {'q[5]': 1, 'q[6]': 0, 'q[1]': 1, 'q[4]': 0, 'q[0]': 1, 'q[3]': 0, 'q[2]': 1}\n",
      "Cost = -4.0\n",
      "Break = {}\n"
     ]
    },
    {
     "name": "stderr",
     "output_type": "stream",
     "text": [
      "/home/ec2-user/anaconda3/envs/python3/lib/python3.6/site-packages/ipykernel/__main__.py:14: VisibleDeprecationWarning: Creating an ndarray from ragged nested sequences (which is a list-or-tuple of lists-or-tuples-or ndarrays with different lengths or shapes) is deprecated. If you meant to do this, you must specify 'dtype=object' when creating the ndarray\n"
     ]
    }
   ],
   "source": [
    "import numpy as np\n",
    "\n",
    "#量子ビット\n",
    "N=7 #部分集合の数\n",
    "\n",
    "#q = Array.create('q', shape=N, vartype='BINARY')\n",
    "\n",
    "#集合U\n",
    "U=np.array([1, 2, 3, 4, 5, 6, 7, 8, 9 ,10,11,12])\n",
    "\n",
    "#部分集合\n",
    "S=np.array([[1,4],[2,5],[3,6],[1,2,3,4,6,7,9],[4,5,7,8],[7,8,9,10,11,12],[6,11]])\n",
    "\n",
    "#QUBO式\n",
    "HA = 0\n",
    "for i in range(N):\n",
    "    for j in range(N):\n",
    "        c =np.intersect1d(S[i], S[j]) #共通要素\n",
    "        if i!=j and c.size != 0:\n",
    "            HA += q[i]*q[j] \n",
    "    \n",
    "HB = 0\n",
    "for i in range(N):\n",
    "    HB += -q[i]\n",
    "\n",
    "\n",
    "#式をつなげる\n",
    "H = HA + HB\n"
   ]
  }
 ],
 "metadata": {
  "kernelspec": {
   "display_name": "Python 3 (ipykernel)",
   "language": "python",
   "name": "python3"
  },
  "language_info": {
   "codemirror_mode": {
    "name": "ipython",
    "version": 3
   },
   "file_extension": ".py",
   "mimetype": "text/x-python",
   "name": "python",
   "nbconvert_exporter": "python",
   "pygments_lexer": "ipython3",
   "version": "3.10.9"
  }
 },
 "nbformat": 4,
 "nbformat_minor": 5
}
