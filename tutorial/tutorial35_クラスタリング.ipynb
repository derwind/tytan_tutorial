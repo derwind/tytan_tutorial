{
  "nbformat": 4,
  "nbformat_minor": 0,
  "metadata": {
    "colab": {
      "provenance": [],
      "toc_visible": true
    },
    "kernelspec": {
      "name": "python3",
      "display_name": "Python 3"
    },
    "language_info": {
      "name": "python"
    }
  },
  "cells": [
    {
      "cell_type": "markdown",
      "source": [
        "## TYTANチュートリアル（クラスタリング）\n",
        "\n",
        "2023年6月5日\n",
        "\n",
        "ビネクラ安田\n",
        "\n",
        "出典：[量子アニーリング（QUBO）でクラスタリング](https://vigne-cla.com/21-29/)"
      ],
      "metadata": {
        "id": "wD0xnOSEwDir"
      }
    },
    {
      "cell_type": "markdown",
      "source": [
        "### 問題\n",
        "この10点を３クラスに分割してみます。\n",
        "\n",
        "<div align=\"center\">\n",
        "<img src=\"https://vigne-cla.com/wp-content/uploads/2023/06/21-29_2.png\" width = 25%>\n",
        "</div>"
      ],
      "metadata": {
        "id": "NrPx2FvzyDYI"
      }
    },
    {
      "cell_type": "markdown",
      "source": [
        "### QUBOモデルでは何が設定できるか？（おさらい）\n",
        "\n",
        "**<font color=\"red\">One-hotエンコーディング</font>**\n",
        "\n",
        "例）1～3の自然数のどれかにする（＝3個の量子ビットから1個を１にする。1になった場所を自然数に割り当てる）\n",
        "```\n",
        "H = (q0 + q1 + q2 - 1)**2\n",
        "```\n",
        "\n",
        "**<font color=\"red\">「2個の量子ビットが同時に1になったらペナルティを与える」</font>**\n",
        "\n",
        "例）2個の量子ビットが同時に1になったらペナルティを与える\n",
        "```\n",
        "H = (q0 * q1)\n",
        "```\n",
        "\n",
        "その他の条件式も気になる方は → [量子アニーリングのQUBOで設定可能な条件式まとめ（保存版）](https://vigne-cla.com/21-12/)"
      ],
      "metadata": {
        "id": "V8VJ0QJH0UNS"
      }
    },
    {
      "cell_type": "markdown",
      "source": [
        "### 考え方\n",
        "\n",
        "この10点を３クラスに分割してみましょう。\n",
        "\n",
        "```\n",
        "x = np.array([0.45, 0.80, 0.71, 0.49, 0.79, 0.30, 0.44, 0.14, 0.30, 0.40])\n",
        "y = np.array([0.14, 0.14, 0.17, 0.25, 0.32, 0.63, 0.68, 0.74, 0.77, 0.84])\n",
        "```\n",
        "\n",
        "<div align=\"center\">\n",
        "<img src=\"https://vigne-cla.com/wp-content/uploads/2023/06/21-29_2.png\" width = 25%>\n",
        "</div>\n",
        "\n",
        "まず、各点に3個ずつ量子ビットを割り当ててワンホットとする。例えば、点0は [q0_1, q0_2, q0_3] の3つで表し、q0_1が1になればクラス1といった具合。ワンホットなので「3個の量子ビットから1個を1にする」を設定する。\n",
        "\n",
        "次に、２点間の距離に応じた設定を行う。\n",
        "\n",
        "<div align=\"center\">\n",
        "<img src=\"https://vigne-cla.com/wp-content/uploads/2023/06/21-29_1-768x425.png\" width = 70%>\n",
        "</div>\n",
        "\n",
        "「同じクラスに属する点は互いの距離が小さい」というのがクラスタリングの目標である。そこで、<font color=\"red\">ある２点が同じクラスになった場合、その距離に比例したペナルティを加算する。</font>アニーリングでペナルティが最小の解を探すことは、クラス内の相互距離が最小となるクラス分けを探すことに相当する。\n",
        "\n",
        "「距離ができるだけ小さくなるように」は「できるだけ～になるように」系なので**弱い条件**として重み0.1をかける。"
      ],
      "metadata": {
        "id": "1gewbtcP20NU"
      }
    },
    {
      "cell_type": "markdown",
      "source": [
        "## コード"
      ],
      "metadata": {
        "id": "aRt4eclUEy3i"
      }
    },
    {
      "cell_type": "code",
      "source": [
        "!pip install git+https://github.com/tytansdk/tytan"
      ],
      "metadata": {
        "id": "RLVRSk--Ae4D"
      },
      "execution_count": null,
      "outputs": []
    },
    {
      "cell_type": "code",
      "source": [
        "from tytan import symbols, Compile, sampler\n",
        "import numpy as np\n",
        "import matplotlib.pyplot as plt\n",
        "\n",
        "\n",
        "#データ\n",
        "x = np.array([0.45, 0.80, 0.71, 0.49, 0.79, 0.30, 0.44, 0.14, 0.30, 0.40])\n",
        "y = np.array([0.14, 0.14, 0.17, 0.25, 0.32, 0.63, 0.68, 0.74, 0.77, 0.84])\n",
        "\n",
        "#グラフ確認\n",
        "plt.figure(figsize=(3, 3))\n",
        "plt.plot(x, y, 'o')\n",
        "plt.xlabel('x'); plt.ylabel('y')\n",
        "plt.show()\n",
        "\n",
        "\n",
        "#量子ビットを用意する、例：q0_1は点0のワンホットクラス1\n",
        "q0_1, q0_2, q0_3 = symbols('q0_1 q0_2 q0_3')\n",
        "q1_1, q1_2, q1_3 = symbols('q1_1 q1_2 q1_3')\n",
        "q2_1, q2_2, q2_3 = symbols('q2_1 q2_2 q2_3')\n",
        "q3_1, q3_2, q3_3 = symbols('q3_1 q3_2 q3_3')\n",
        "q4_1, q4_2, q4_3 = symbols('q4_1 q4_2 q4_3')\n",
        "q5_1, q5_2, q5_3 = symbols('q5_1 q5_2 q5_3')\n",
        "q6_1, q6_2, q6_3 = symbols('q6_1 q6_2 q6_3')\n",
        "q7_1, q7_2, q7_3 = symbols('q7_1 q7_2 q7_3')\n",
        "q8_1, q8_2, q8_3 = symbols('q8_1 q8_2 q8_3')\n",
        "q9_1, q9_2, q9_3 = symbols('q9_1 q9_2 q9_3')\n",
        "\n",
        "#各点ともワンホットで一つだけ１になる\n",
        "H = 0\n",
        "H += (q0_1 + q0_2 + q0_3 - 1)**2\n",
        "H += (q1_1 + q1_2 + q1_3 - 1)**2\n",
        "H += (q2_1 + q2_2 + q2_3 - 1)**2\n",
        "H += (q3_1 + q3_2 + q3_3 - 1)**2\n",
        "H += (q4_1 + q4_2 + q4_3 - 1)**2\n",
        "H += (q5_1 + q5_2 + q5_3 - 1)**2\n",
        "H += (q6_1 + q6_2 + q6_3 - 1)**2\n",
        "H += (q7_1 + q7_2 + q7_3 - 1)**2\n",
        "H += (q8_1 + q8_2 + q8_3 - 1)**2\n",
        "H += (q9_1 + q9_2 + q9_3 - 1)**2\n",
        "\n",
        "#2点の組み合わせで\n",
        "for i in range(9):\n",
        "    for j in range(i+1, 10):\n",
        "        #2点の距離\n",
        "        dist = ((x[i] - x[j])**2 + (y[i] - y[j])**2)**0.5\n",
        "        \n",
        "        #同時にクラス1に入った場合のペナルティ\n",
        "        command = f'H += 0.1 * {dist} * (q{i}_1 * q{j}_1)'\n",
        "        print(command)\n",
        "        exec(command)\n",
        "        \n",
        "        #同時にクラス2に入った場合のペナルティ\n",
        "        command = f'H += 0.1 * {dist} * (q{i}_2 * q{j}_2)'\n",
        "        print(command)\n",
        "        exec(command)\n",
        "        \n",
        "        #同時にクラス3に入った場合のペナルティ\n",
        "        command = f'H += 0.1 * {dist} * (q{i}_3 * q{j}_3)'\n",
        "        print(command)\n",
        "        exec(command)\n",
        "\n",
        "\n",
        "#コンパイル\n",
        "qubo, offset = Compile(H).get_qubo()\n",
        "print(f'offset\\n{offset}')\n",
        "\n",
        "#サンプラー選択\n",
        "solver = sampler.SASampler()\n",
        "\n",
        "#サンプリング\n",
        "result = solver.run(qubo, shots=500)\n",
        "\n",
        "#上位3件をワンホットから整数に戻して確認\n",
        "for r in result[:3]:\n",
        "    print(r)\n",
        "    \n",
        "    tmp = np.array(list(r[0].values())).reshape(10, 3)\n",
        "    ans = np.zeros(10, int)\n",
        "    for i in range(10):\n",
        "        ans[i] = np.argmax(tmp[i, :]) + 1\n",
        "    print(ans)\n",
        "    \n",
        "    #グラフ確認\n",
        "    plt.figure(figsize=(3, 3))\n",
        "    plt.plot(x[ans==1], y[ans==1], 'o', label='1')\n",
        "    plt.plot(x[ans==2], y[ans==2], 'o', label='2')\n",
        "    plt.plot(x[ans==3], y[ans==3], 'o', label='3')\n",
        "    plt.xlabel('x'); plt.ylabel('y')\n",
        "    plt.legend()\n",
        "    plt.show()"
      ],
      "metadata": {
        "colab": {
          "base_uri": "https://localhost:8080/",
          "height": 1000
        },
        "id": "DyzHJ_niCiak",
        "outputId": "b952f559-eb9e-459b-c9de-f703a63c413c"
      },
      "execution_count": 7,
      "outputs": [
        {
          "output_type": "display_data",
          "data": {
            "text/plain": [
              "<Figure size 300x300 with 1 Axes>"
            ],
            "image/png": "[encoded data removed]"
          },
          "metadata": {}
        },
        {
          "output_type": "stream",
          "name": "stdout",
          "text": [
            "H += 0.1 * 0.35000000000000003 * (q0_1 * q1_1)\n",
            "H += 0.1 * 0.35000000000000003 * (q0_2 * q1_2)\n",
            "H += 0.1 * 0.35000000000000003 * (q0_3 * q1_3)\n",
            "H += 0.1 * 0.26172504656604795 * (q0_1 * q2_1)\n",
            "H += 0.1 * 0.26172504656604795 * (q0_2 * q2_2)\n",
            "H += 0.1 * 0.26172504656604795 * (q0_3 * q2_3)\n",
            "H += 0.1 * 0.11704699910719624 * (q0_1 * q3_1)\n",
            "H += 0.1 * 0.11704699910719624 * (q0_2 * q3_2)\n",
            "H += 0.1 * 0.11704699910719624 * (q0_3 * q3_3)\n",
            "H += 0.1 * 0.3847076812334269 * (q0_1 * q4_1)\n",
            "H += 0.1 * 0.3847076812334269 * (q0_2 * q4_2)\n",
            "H += 0.1 * 0.3847076812334269 * (q0_3 * q4_3)\n",
            "H += 0.1 * 0.5124451190127582 * (q0_1 * q5_1)\n",
            "H += 0.1 * 0.5124451190127582 * (q0_2 * q5_2)\n",
            "H += 0.1 * 0.5124451190127582 * (q0_3 * q5_3)\n",
            "H += 0.1 * 0.540092584655631 * (q0_1 * q6_1)\n",
            "H += 0.1 * 0.540092584655631 * (q0_2 * q6_2)\n",
            "H += 0.1 * 0.540092584655631 * (q0_3 * q6_3)\n",
            "H += 0.1 * 0.6753517601961218 * (q0_1 * q7_1)\n",
            "H += 0.1 * 0.6753517601961218 * (q0_2 * q7_2)\n",
            "H += 0.1 * 0.6753517601961218 * (q0_3 * q7_3)\n",
            "H += 0.1 * 0.6476109943476871 * (q0_1 * q8_1)\n",
            "H += 0.1 * 0.6476109943476871 * (q0_2 * q8_2)\n",
            "H += 0.1 * 0.6476109943476871 * (q0_3 * q8_3)\n",
            "H += 0.1 * 0.70178344238091 * (q0_1 * q9_1)\n",
            "H += 0.1 * 0.70178344238091 * (q0_2 * q9_2)\n",
            "H += 0.1 * 0.70178344238091 * (q0_3 * q9_3)\n",
            "H += 0.1 * 0.09486832980505146 * (q1_1 * q2_1)\n",
            "H += 0.1 * 0.09486832980505146 * (q1_2 * q2_2)\n",
            "H += 0.1 * 0.09486832980505146 * (q1_3 * q2_3)\n",
            "H += 0.1 * 0.3289376840679706 * (q1_1 * q3_1)\n",
            "H += 0.1 * 0.3289376840679706 * (q1_2 * q3_2)\n",
            "H += 0.1 * 0.3289376840679706 * (q1_3 * q3_3)\n",
            "H += 0.1 * 0.18027756377319948 * (q1_1 * q4_1)\n",
            "H += 0.1 * 0.18027756377319948 * (q1_2 * q4_2)\n",
            "H += 0.1 * 0.18027756377319948 * (q1_3 * q4_3)\n",
            "H += 0.1 * 0.7000714249274855 * (q1_1 * q5_1)\n",
            "H += 0.1 * 0.7000714249274855 * (q1_2 * q5_2)\n",
            "H += 0.1 * 0.7000714249274855 * (q1_3 * q5_3)\n",
            "H += 0.1 * 0.6489992295835181 * (q1_1 * q6_1)\n",
            "H += 0.1 * 0.6489992295835181 * (q1_2 * q6_2)\n",
            "H += 0.1 * 0.6489992295835181 * (q1_3 * q6_3)\n",
            "H += 0.1 * 0.8919641248391104 * (q1_1 * q7_1)\n",
            "H += 0.1 * 0.8919641248391104 * (q1_2 * q7_2)\n",
            "H += 0.1 * 0.8919641248391104 * (q1_3 * q7_3)\n",
            "H += 0.1 * 0.8043009387039157 * (q1_1 * q8_1)\n",
            "H += 0.1 * 0.8043009387039157 * (q1_2 * q8_2)\n",
            "H += 0.1 * 0.8043009387039157 * (q1_3 * q8_3)\n",
            "H += 0.1 * 0.8062257748298549 * (q1_1 * q9_1)\n",
            "H += 0.1 * 0.8062257748298549 * (q1_2 * q9_2)\n",
            "H += 0.1 * 0.8062257748298549 * (q1_3 * q9_3)\n",
            "H += 0.1 * 0.23409399821439247 * (q2_1 * q3_1)\n",
            "H += 0.1 * 0.23409399821439247 * (q2_2 * q3_2)\n",
            "H += 0.1 * 0.23409399821439247 * (q2_3 * q3_3)\n",
            "H += 0.1 * 0.17000000000000004 * (q2_1 * q4_1)\n",
            "H += 0.1 * 0.17000000000000004 * (q2_2 * q4_2)\n",
            "H += 0.1 * 0.17000000000000004 * (q2_3 * q4_3)\n",
            "H += 0.1 * 0.6161980201201558 * (q2_1 * q5_1)\n",
            "H += 0.1 * 0.6161980201201558 * (q2_2 * q5_2)\n",
            "H += 0.1 * 0.6161980201201558 * (q2_3 * q5_3)\n",
            "H += 0.1 * 0.5770615218501403 * (q2_1 * q6_1)\n",
            "H += 0.1 * 0.5770615218501403 * (q2_2 * q6_2)\n",
            "H += 0.1 * 0.5770615218501403 * (q2_3 * q6_3)\n",
            "H += 0.1 * 0.8061017305526641 * (q2_1 * q7_1)\n",
            "H += 0.1 * 0.8061017305526641 * (q2_2 * q7_2)\n",
            "H += 0.1 * 0.8061017305526641 * (q2_3 * q7_3)\n",
            "H += 0.1 * 0.7267048919609665 * (q2_1 * q8_1)\n",
            "H += 0.1 * 0.7267048919609665 * (q2_2 * q8_2)\n",
            "H += 0.1 * 0.7267048919609665 * (q2_3 * q8_3)\n",
            "H += 0.1 * 0.7382411530116699 * (q2_1 * q9_1)\n",
            "H += 0.1 * 0.7382411530116699 * (q2_2 * q9_2)\n",
            "H += 0.1 * 0.7382411530116699 * (q2_3 * q9_3)\n",
            "H += 0.1 * 0.3080584360149873 * (q3_1 * q4_1)\n",
            "H += 0.1 * 0.3080584360149873 * (q3_2 * q4_2)\n",
            "H += 0.1 * 0.3080584360149873 * (q3_3 * q4_3)\n",
            "H += 0.1 * 0.42485291572496003 * (q3_1 * q5_1)\n",
            "H += 0.1 * 0.42485291572496003 * (q3_2 * q5_2)\n",
            "H += 0.1 * 0.42485291572496003 * (q3_3 * q5_3)\n",
            "H += 0.1 * 0.4328972164382673 * (q3_1 * q6_1)\n",
            "H += 0.1 * 0.4328972164382673 * (q3_2 * q6_2)\n",
            "H += 0.1 * 0.4328972164382673 * (q3_3 * q6_3)\n",
            "H += 0.1 * 0.6021627686929839 * (q3_1 * q7_1)\n",
            "H += 0.1 * 0.6021627686929839 * (q3_2 * q7_2)\n",
            "H += 0.1 * 0.6021627686929839 * (q3_3 * q7_3)\n",
            "H += 0.1 * 0.5536244214266564 * (q3_1 * q8_1)\n",
            "H += 0.1 * 0.5536244214266564 * (q3_2 * q8_2)\n",
            "H += 0.1 * 0.5536244214266564 * (q3_3 * q8_3)\n",
            "H += 0.1 * 0.596824932455071 * (q3_1 * q9_1)\n",
            "H += 0.1 * 0.596824932455071 * (q3_2 * q9_2)\n",
            "H += 0.1 * 0.596824932455071 * (q3_3 * q9_3)\n",
            "H += 0.1 * 0.579827560572969 * (q4_1 * q5_1)\n",
            "H += 0.1 * 0.579827560572969 * (q4_2 * q5_2)\n",
            "H += 0.1 * 0.579827560572969 * (q4_3 * q5_3)\n",
            "H += 0.1 * 0.5020956084253277 * (q4_1 * q6_1)\n",
            "H += 0.1 * 0.5020956084253277 * (q4_2 * q6_2)\n",
            "H += 0.1 * 0.5020956084253277 * (q4_3 * q6_3)\n",
            "H += 0.1 * 0.7738862965578341 * (q4_1 * q7_1)\n",
            "H += 0.1 * 0.7738862965578341 * (q4_2 * q7_2)\n",
            "H += 0.1 * 0.7738862965578341 * (q4_3 * q7_3)\n",
            "H += 0.1 * 0.6652818951391959 * (q4_1 * q8_1)\n",
            "H += 0.1 * 0.6652818951391959 * (q4_2 * q8_2)\n",
            "H += 0.1 * 0.6652818951391959 * (q4_3 * q8_3)\n",
            "H += 0.1 * 0.65 * (q4_1 * q9_1)\n",
            "H += 0.1 * 0.65 * (q4_2 * q9_2)\n",
            "H += 0.1 * 0.65 * (q4_3 * q9_3)\n",
            "H += 0.1 * 0.1486606874731851 * (q5_1 * q6_1)\n",
            "H += 0.1 * 0.1486606874731851 * (q5_2 * q6_2)\n",
            "H += 0.1 * 0.1486606874731851 * (q5_3 * q6_3)\n",
            "H += 0.1 * 0.19416487838947596 * (q5_1 * q7_1)\n",
            "H += 0.1 * 0.19416487838947596 * (q5_2 * q7_2)\n",
            "H += 0.1 * 0.19416487838947596 * (q5_3 * q7_3)\n",
            "H += 0.1 * 0.14 * (q5_1 * q8_1)\n",
            "H += 0.1 * 0.14 * (q5_2 * q8_2)\n",
            "H += 0.1 * 0.14 * (q5_3 * q8_3)\n",
            "H += 0.1 * 0.23259406699226012 * (q5_1 * q9_1)\n",
            "H += 0.1 * 0.23259406699226012 * (q5_2 * q9_2)\n",
            "H += 0.1 * 0.23259406699226012 * (q5_3 * q9_3)\n",
            "H += 0.1 * 0.3059411708155671 * (q6_1 * q7_1)\n",
            "H += 0.1 * 0.3059411708155671 * (q6_2 * q7_2)\n",
            "H += 0.1 * 0.3059411708155671 * (q6_3 * q7_3)\n",
            "H += 0.1 * 0.16643316977093237 * (q6_1 * q8_1)\n",
            "H += 0.1 * 0.16643316977093237 * (q6_2 * q8_2)\n",
            "H += 0.1 * 0.16643316977093237 * (q6_3 * q8_3)\n",
            "H += 0.1 * 0.16492422502470633 * (q6_1 * q9_1)\n",
            "H += 0.1 * 0.16492422502470633 * (q6_2 * q9_2)\n",
            "H += 0.1 * 0.16492422502470633 * (q6_3 * q9_3)\n",
            "H += 0.1 * 0.16278820596099705 * (q7_1 * q8_1)\n",
            "H += 0.1 * 0.16278820596099705 * (q7_2 * q8_2)\n",
            "H += 0.1 * 0.16278820596099705 * (q7_3 * q8_3)\n",
            "H += 0.1 * 0.2785677655436824 * (q7_1 * q9_1)\n",
            "H += 0.1 * 0.2785677655436824 * (q7_2 * q9_2)\n",
            "H += 0.1 * 0.2785677655436824 * (q7_3 * q9_3)\n",
            "H += 0.1 * 0.12206555615733702 * (q8_1 * q9_1)\n",
            "H += 0.1 * 0.12206555615733702 * (q8_2 * q9_2)\n",
            "H += 0.1 * 0.12206555615733702 * (q8_3 * q9_3)\n",
            "offset\n",
            "10\n",
            "[{'q0_1': 1.0, 'q0_2': 0.0, 'q0_3': 0.0, 'q1_1': 0.0, 'q1_2': 1.0, 'q1_3': 0.0, 'q2_1': 0.0, 'q2_2': 1.0, 'q2_3': 0.0, 'q3_1': 1.0, 'q3_2': 0.0, 'q3_3': 0.0, 'q4_1': 0.0, 'q4_2': 1.0, 'q4_3': 0.0, 'q5_1': 0.0, 'q5_2': 0.0, 'q5_3': 1.0, 'q6_1': 0.0, 'q6_2': 0.0, 'q6_3': 1.0, 'q7_1': 0.0, 'q7_2': 0.0, 'q7_3': 1.0, 'q8_1': 0.0, 'q8_2': 0.0, 'q8_3': 1.0, 'q9_1': 0.0, 'q9_2': 0.0, 'q9_3': 1.0}, -9.752166738118643, 1]\n",
            "[1 2 2 1 2 3 3 3 3 3]\n"
          ]
        },
        {
          "output_type": "display_data",
          "data": {
            "text/plain": [
              "<Figure size 300x300 with 1 Axes>"
            ],
            "image/png": "[encoded data removed]"
          },
          "metadata": {}
        },
        {
          "output_type": "stream",
          "name": "stdout",
          "text": [
            "[{'q0_1': 0.0, 'q0_2': 0.0, 'q0_3': 1.0, 'q1_1': 0.0, 'q1_2': 1.0, 'q1_3': 0.0, 'q2_1': 0.0, 'q2_2': 1.0, 'q2_3': 0.0, 'q3_1': 0.0, 'q3_2': 0.0, 'q3_3': 1.0, 'q4_1': 0.0, 'q4_2': 1.0, 'q4_3': 0.0, 'q5_1': 1.0, 'q5_2': 0.0, 'q5_3': 0.0, 'q6_1': 1.0, 'q6_2': 0.0, 'q6_3': 0.0, 'q7_1': 1.0, 'q7_2': 0.0, 'q7_3': 0.0, 'q8_1': 1.0, 'q8_2': 0.0, 'q8_3': 0.0, 'q9_1': 1.0, 'q9_2': 0.0, 'q9_3': 0.0}, -9.752166738118643, 1]\n",
            "[3 2 2 3 2 1 1 1 1 1]\n"
          ]
        },
        {
          "output_type": "display_data",
          "data": {
            "text/plain": [
              "<Figure size 300x300 with 1 Axes>"
            ],
            "image/png": "[encoded data removed]"
          },
          "metadata": {}
        },
        {
          "output_type": "stream",
          "name": "stdout",
          "text": [
            "[{'q0_1': 1.0, 'q0_2': 0.0, 'q0_3': 0.0, 'q1_1': 0.0, 'q1_2': 0.0, 'q1_3': 1.0, 'q2_1': 0.0, 'q2_2': 0.0, 'q2_3': 1.0, 'q3_1': 1.0, 'q3_2': 0.0, 'q3_3': 0.0, 'q4_1': 0.0, 'q4_2': 0.0, 'q4_3': 1.0, 'q5_1': 0.0, 'q5_2': 1.0, 'q5_3': 0.0, 'q6_1': 0.0, 'q6_2': 1.0, 'q6_3': 0.0, 'q7_1': 0.0, 'q7_2': 1.0, 'q7_3': 0.0, 'q8_1': 0.0, 'q8_2': 1.0, 'q8_3': 0.0, 'q9_1': 0.0, 'q9_2': 1.0, 'q9_3': 0.0}, -9.752166738118643, 4]\n",
            "[1 3 3 1 3 2 2 2 2 2]\n"
          ]
        },
        {
          "output_type": "display_data",
          "data": {
            "text/plain": [
              "<Figure size 300x300 with 1 Axes>"
            ],
            "image/png": "[encoded data removed]"
          },
          "metadata": {}
        }
      ]
    },
    {
      "cell_type": "markdown",
      "source": [
        "最良の解は６通り出てくるが、３クラスが入れ替わっただけなので実質１パターン。ワンホットをクラス番号に戻してグラフで確認すると、適切に分割できていることが分かる。"
      ],
      "metadata": {
        "id": "M031KDq0kZRo"
      }
    }
  ]
}
