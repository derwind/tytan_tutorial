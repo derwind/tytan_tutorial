{
 "cells": [
  {
   "cell_type": "markdown",
   "id": "b02af6ab-2a06-46d1-bd95-3934a8dee157",
   "metadata": {},
   "source": [
    "ここでは、NetworkXを利用してグラフ問題をQUBO形式に変換して計算を行います。"
   ]
  },
  {
   "cell_type": "code",
   "execution_count": 1,
   "id": "cf74fabc-aff3-40f9-b140-f2ef37339a6e",
   "metadata": {},
   "outputs": [],
   "source": [
    "import networkx as nx\n",
    "import numpy as np\n",
    "from tytan import sampler"
   ]
  },
  {
   "cell_type": "markdown",
   "id": "72ba2827-e48c-40f4-81df-57f3ef6e07ae",
   "metadata": {},
   "source": [
    "まずはGraphオブジェクトを生成し、ノードを定義し追加、その後エッジを追加していきます。"
   ]
  },
  {
   "cell_type": "code",
   "execution_count": 2,
   "id": "7f186293-08be-4ad0-a1c4-2843e34c3875",
   "metadata": {},
   "outputs": [],
   "source": [
    "# Graphオブジェクトを生成\n",
    "G = nx.Graph()\n",
    "\n",
    "# ノードを定義\n",
    "node_list = [\"x0\", \"x1\"]\n",
    "\n",
    "# グラフのノードを追加\n",
    "G.add_nodes_from(node_list)\n",
    "\n",
    "# グラフのエッジを追加\n",
    "G.add_edge(node_list[0], node_list[1], weight=1)\n",
    "\n",
    "# ノードのリストを取得\n",
    "node_list = list(G.nodes())\n",
    "\n",
    "# QUBO行列の要素を計算\n",
    "qubo = {(i, j): 0 for i in node_list for j in node_list}\n",
    "for (i, j) in G.edges:\n",
    "    qubo[(i, j)] += G.edges[(i, j)]['weight']"
   ]
  },
  {
   "cell_type": "markdown",
   "id": "bc2a53ee-f35e-4faa-ac09-f2245c08cda2",
   "metadata": {},
   "source": [
    "QUBO形式が作成できたので、計算をします。\n"
   ]
  },
  {
   "cell_type": "code",
   "execution_count": 3,
   "id": "a568469a-fdb7-4b2c-9c91-3e4d1bf2487f",
   "metadata": {},
   "outputs": [
    {
     "name": "stdout",
     "output_type": "stream",
     "text": [
      "----------------------------------------\n",
      "[[{'x0': 0, 'x1': 0}, 0.0, 28], [{'x0': 0, 'x1': 1}, 0.0, 39], [{'x0': 1, 'x1': 0}, 0.0, 33]]\n"
     ]
    }
   ],
   "source": [
    "# サンプラーを選択\n",
    "solver = sampler.SASampler()\n",
    "\n",
    "# 計算\n",
    "result = solver.run(qubo, shots=100)\n",
    "print(result)"
   ]
  },
  {
   "cell_type": "markdown",
   "id": "9e361c99-5e22-483b-b754-19b5ab84ef82",
   "metadata": {},
   "source": [
    "完了しました。"
   ]
  }
 ],
 "metadata": {
  "kernelspec": {
   "display_name": "Python 3 (ipykernel)",
   "language": "python",
   "name": "python3"
  },
  "language_info": {
   "codemirror_mode": {
    "name": "ipython",
    "version": 3
   },
   "file_extension": ".py",
   "mimetype": "text/x-python",
   "name": "python",
   "nbconvert_exporter": "python",
   "pygments_lexer": "ipython3",
   "version": "3.10.9"
  }
 },
 "nbformat": 4,
 "nbformat_minor": 5
}
